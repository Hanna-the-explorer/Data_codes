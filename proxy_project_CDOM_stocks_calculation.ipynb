{
 "cells": [
  {
   "cell_type": "code",
   "execution_count": 1,
   "id": "2fc6702e",
   "metadata": {},
   "outputs": [],
   "source": [
    "import pandas as pd #the csv reading library\n",
    "import matplotlib.pyplot as plt #the ploting library\n",
    "import glob #to get file names\n",
    "import numpy as np\n",
    "from pandas import Series\n",
    "import seaborn as sns\n",
    "from matplotlib.pyplot import figure\n",
    "import cmocean.cm as cmo\n",
    "import seaborn as sns\n",
    "\n",
    "from pylab import rcParams\n",
    "from numpy import diff\n",
    "from scipy import interpolate\n",
    "import scipy.stats as stats\n",
    "\n",
    "from scipy.signal import savgol_filter\n",
    "from sklearn.linear_model import LinearRegression\n",
    "\n",
    "import statsmodels.api as sm\n",
    "from statsmodels.stats.anova import anova_lm\n",
    "from statsmodels.formula.api import ols\n",
    "\n",
    "import matplotlib.gridspec as gridspec\n",
    "\n",
    "import cmocean\n",
    "import cmocean.cm as cmo\n",
    "import seaborn as sns\n",
    "\n",
    "from scipy.interpolate import interp1d\n",
    "\n",
    "import cartopy.crs as ccrs\n",
    "import cartopy.feature as cfeature\n",
    "from cartopy.mpl.gridliner import LONGITUDE_FORMATTER, LATITUDE_FORMATTER"
   ]
  },
  {
   "cell_type": "code",
   "execution_count": 2,
   "id": "0eb596d6",
   "metadata": {},
   "outputs": [],
   "source": [
    "df_meta = pd.read_csv('../Dissertation_projects/Data/meta_data.csv', sep=',', index_col=0)\n",
    "\n",
    "#fix date time \n",
    "df_meta['date_time'] = pd.to_datetime(df_meta['Date'])\n",
    "df_meta['Date'] = df_meta['date_time'].dt.date\n",
    "\n",
    "df_meta['code'] = df_meta['Station'] + '_' + df_meta['Trip']"
   ]
  },
  {
   "cell_type": "code",
   "execution_count": 3,
   "id": "e22772e9",
   "metadata": {},
   "outputs": [],
   "source": [
    "df_spectra_pw = pd.read_csv('../Dissertation_projects/Data/CDOM/sprectra_pchip_baseline_corrected_PW.csv',sep=',', index_col=0)\n",
    "df_spectra_rz = pd.read_csv('../Dissertation_projects/Data/CDOM/sprectra_pchip_baseline_corrected_RZ.csv',sep=',', index_col=0)\n",
    "\n",
    "df_spectra_pw.columns = ['a' + col for col in df_spectra_pw.columns]\n",
    "df_spectra_rz.columns = ['a' + col for col in df_spectra_rz.columns]\n",
    "\n",
    "df_spectra_pw.index = df_spectra_pw.index.astype(str)\n",
    "df_spectra_rz.index = df_spectra_rz.index.astype(str)\n",
    "df_meta.index = df_meta.index.astype(str)\n",
    "\n",
    "df_spectra_pw = df_spectra_pw.merge(df_meta, left_index=True, right_index=True)\n",
    "df_spectra_rz = df_spectra_rz.merge(df_meta, left_index=True, right_index=True)"
   ]
  },
  {
   "cell_type": "code",
   "execution_count": 4,
   "id": "a9830809-90cc-4bdb-b992-f67dffe056ac",
   "metadata": {},
   "outputs": [],
   "source": [
    "df_spectra_rz = df_spectra_rz[df_spectra_rz['afile_id'] != '222364_1_94']"
   ]
  },
  {
   "cell_type": "code",
   "execution_count": 5,
   "id": "c64e61df",
   "metadata": {},
   "outputs": [],
   "source": [
    "#get PW data sets \n",
    "df_cdom_pw = df_spectra_pw[df_spectra_pw['a412'] >= 0]\n",
    " \n",
    "\n",
    "#get RHZ data \n",
    "df_cdom_rz = df_spectra_rz[df_spectra_rz['a412'] >= 0]\n",
    "\n",
    "df_cdom_rz = df_cdom_rz[df_cdom_rz[\"a450\"] >= df_cdom_rz[\"a500\"]] # bad scanns with dirty blanks\n",
    "df_cdom_pw = df_cdom_pw[df_cdom_pw[\"a450\"] >= df_cdom_pw[\"a500\"]] # bad scanns with dirty blanks\n",
    "\n"
   ]
  },
  {
   "cell_type": "code",
   "execution_count": 6,
   "id": "bbadeb72",
   "metadata": {},
   "outputs": [],
   "source": [
    "df_cdom_pw['code_ID'] = df_cdom_pw['Station'] + '_' + df_cdom_pw['Trip']\n",
    "\n",
    "df_cdom_pw.loc[df_cdom_pw['Station'] == 'St.5B', 'code'] = 'shelf_shallow'\n",
    "df_cdom_pw.loc[df_cdom_pw['Station'] == 'St.4', 'code'] = 'shelf_shallow'\n",
    "df_cdom_pw.loc[df_cdom_pw['Station'] == 'St.MK', 'code'] = 'shelf_shallow'\n",
    "df_cdom_pw.loc[df_cdom_pw['Station'] == 'St.7', 'code'] = 'shelf_shallow'\n",
    "df_cdom_pw.loc[df_cdom_pw['Station'] == 'St.9', 'code'] = 'shelf'\n",
    "df_cdom_pw.loc[df_cdom_pw['Station'] == 'St.14', 'code'] = 'shelf'\n",
    "df_cdom_pw.loc[df_cdom_pw['Station'] == 'St.2', 'code'] = 'shelf'\n",
    "df_cdom_pw.loc[df_cdom_pw['Station'] == 'St.16', 'code'] = 'shelf'\n",
    "df_cdom_pw.loc[df_cdom_pw['Station'] == 'St.11', 'code'] = 'slope'\n",
    "df_cdom_pw.loc[df_cdom_pw['Station'] == 'St.12', 'code'] = 'slope'\n",
    "df_cdom_pw.loc[df_cdom_pw['Station'] == 'St.15', 'code'] = 'slope'\n",
    "df_cdom_pw.loc[df_cdom_pw['Station'] == 'St.13', 'code'] = 'slope'\n",
    "\n",
    "codes_list_pw = df_cdom_pw['code'].unique()"
   ]
  },
  {
   "cell_type": "code",
   "execution_count": 7,
   "id": "50c2d2d4-0083-4172-99e5-8a8bd2f277ba",
   "metadata": {},
   "outputs": [],
   "source": [
    "df_cdom_rz['code_ID'] = df_cdom_rz['Station'] + '_' + df_cdom_rz['Trip']\n",
    "\n",
    "df_cdom_rz.loc[df_cdom_rz['Station'] == 'St.5B', 'code'] = 'shelf_shallow'\n",
    "df_cdom_rz.loc[df_cdom_rz['Station'] == 'St.4', 'code'] = 'shelf_shallow'\n",
    "df_cdom_rz.loc[df_cdom_rz['Station'] == 'St.MK', 'code'] = 'shelf_shallow'\n",
    "df_cdom_rz.loc[df_cdom_rz['Station'] == 'St.7', 'code'] = 'shelf_shallow'\n",
    "df_cdom_rz.loc[df_cdom_rz['Station'] == 'St.9', 'code'] = 'shelf'\n",
    "df_cdom_rz.loc[df_cdom_rz['Station'] == 'St.14', 'code'] = 'shelf'\n",
    "df_cdom_rz.loc[df_cdom_rz['Station'] == 'St.2', 'code'] = 'shelf'\n",
    "df_cdom_rz.loc[df_cdom_rz['Station'] == 'St.16', 'code'] = 'shelf'\n",
    "df_cdom_rz.loc[df_cdom_rz['Station'] == 'St.11', 'code'] = 'slope'\n",
    "df_cdom_rz.loc[df_cdom_rz['Station'] == 'St.12', 'code'] = 'slope'\n",
    "df_cdom_rz.loc[df_cdom_rz['Station'] == 'St.15', 'code'] = 'slope'\n",
    "df_cdom_rz.loc[df_cdom_rz['Station'] == 'St.13', 'code'] = 'slope'\n",
    "\n",
    "codes_list_rz = df_cdom_rz['code'].unique()"
   ]
  },
  {
   "cell_type": "code",
   "execution_count": 8,
   "id": "106da844",
   "metadata": {},
   "outputs": [],
   "source": [
    "# Group by 'code' and calculate the mean while ignoring NaN values\n",
    "grouped_df = df_meta.groupby('Station')[['Lat', 'Lon']].mean(numeric_only=True)\n",
    "\n",
    "# Reset the index to make it a table\n",
    "grouped_df.reset_index(inplace=True)\n",
    "df_met = grouped_df"
   ]
  },
  {
   "cell_type": "code",
   "execution_count": 9,
   "id": "773b53f8",
   "metadata": {},
   "outputs": [],
   "source": [
    "df_por = pd.read_csv('../Dissertation_projects/Data/Porosity/Porosity.csv', sep=',', index_col = 0)\n",
    "df_por['code'] = df_por['Stn'] + '_' + df_por['camp']\n",
    "\n",
    "df_p = df_por.groupby('code').agg({\n",
    "    'Stn': 'first',\n",
    "    'camp': 'first'\n",
    "}).reset_index()\n",
    "\n",
    "df_p.index = df_p['code']"
   ]
  },
  {
   "cell_type": "code",
   "execution_count": 10,
   "id": "6e512a7c",
   "metadata": {},
   "outputs": [],
   "source": [
    "# Group by 'code' and calculate the mean while ignoring NaN values\n",
    "grouped_df = df_meta.groupby('code')[['Lat', 'Lon']].mean(numeric_only=True)\n",
    "\n",
    "# Reset the index to make it a table\n",
    "grouped_df.reset_index(inplace=True)\n",
    "grouped_df.index = grouped_df['code']\n",
    "df_met = grouped_df.drop('code', axis = 1)"
   ]
  },
  {
   "cell_type": "code",
   "execution_count": 11,
   "id": "bc0cb885-32ce-4c76-98ad-2caecfdcf52b",
   "metadata": {},
   "outputs": [],
   "source": [
    "df_por['code'] = df_por['Stn'] + '_' + df_por['camp']"
   ]
  },
  {
   "cell_type": "code",
   "execution_count": 12,
   "id": "90d553b4-8774-43ca-afd6-d29247567245",
   "metadata": {},
   "outputs": [],
   "source": [
    "\n",
    "# Assuming df_cdom_pw is your DataFrame and codes_list_pw is a list of codes\n",
    "\n",
    "# Convert columns to numeric\n",
    "df_cdom_pw['Sample_depth'] = pd.to_numeric(df_cdom_pw['Sample_depth'], errors='coerce')\n",
    "df_cdom_pw['acdom_412'] = pd.to_numeric(df_cdom_pw['a412'], errors='coerce')\n",
    "df_cdom_pw['acdom_350'] = pd.to_numeric(df_cdom_pw['a350'], errors='coerce')\n",
    "\n",
    "# Convert columns to numeric\n",
    "df_cdom_rz['Sample_depth'] = pd.to_numeric(df_cdom_rz['Sample_depth'], errors='coerce')\n",
    "df_cdom_rz['acdom_412'] = pd.to_numeric(df_cdom_rz['a412'], errors='coerce')\n",
    "df_cdom_rz['acdom_350'] = pd.to_numeric(df_cdom_rz['a350'], errors='coerce')\n"
   ]
  },
  {
   "cell_type": "code",
   "execution_count": 13,
   "id": "6738dd6c-a584-4a25-8055-d7df83ace12e",
   "metadata": {},
   "outputs": [],
   "source": [
    "# Filter for depths between 0 and 5 cm\n",
    "filtered_df = df_cdom_pw[(df_cdom_pw['Sample_depth'] >= 0) & (df_cdom_pw['Sample_depth'] <= 5)]\n",
    "mean_a412 = filtered_df.groupby('code')['acdom_412'].mean().reset_index()\n",
    "mean_a412.columns = ['code', 'pw_mean_a412_0_to_5cm']\n",
    "pw_mean_a412_0_to_5cm = mean_a412.set_index('code', drop=True)"
   ]
  },
  {
   "cell_type": "code",
   "execution_count": 14,
   "id": "728bc31d-3f03-4b32-a283-f548daa31bee",
   "metadata": {},
   "outputs": [],
   "source": [
    "# Filter for depths between 0 and 5 cm\n",
    "filtered_df = df_cdom_pw[(df_cdom_pw['Sample_depth'] >= 0) & (df_cdom_pw['Sample_depth'] <= 5)]\n",
    "mean_a412 = filtered_df.groupby('code')['acdom_412'].std().reset_index()\n",
    "mean_a412.columns = ['code', 'pw_mean_a412_0_to_5cm_std']\n",
    "pw_mean_a412_0_to_5cm_std = mean_a412.set_index('code', drop=True)"
   ]
  },
  {
   "cell_type": "code",
   "execution_count": 15,
   "id": "4fe23b41-9246-4302-82c9-152f71cd4b80",
   "metadata": {},
   "outputs": [],
   "source": [
    "# Filter for depths between 0 and 5 cm\n",
    "filtered_df = df_cdom_pw[(df_cdom_pw['Sample_depth'] >= 0) & (df_cdom_pw['Sample_depth'] <= 5)]\n",
    "mean_a350 = filtered_df.groupby('code')['acdom_350'].mean().reset_index()\n",
    "mean_a350.columns = ['code', 'pw_mean_a350_0_to_5cm']\n",
    "pw_mean_a350_0_to_5cm = mean_a350.set_index('code', drop=True)"
   ]
  },
  {
   "cell_type": "code",
   "execution_count": 16,
   "id": "9d02c59e-9860-4ab9-9d6f-7cb54e8a56a5",
   "metadata": {},
   "outputs": [],
   "source": [
    "# Filter for depths between 0 and 5 cm\n",
    "filtered_df = df_cdom_pw[(df_cdom_pw['Sample_depth'] >= 0) & (df_cdom_pw['Sample_depth'] <= 5)]\n",
    "mean_a350 = filtered_df.groupby('code')['acdom_350'].std().reset_index()\n",
    "mean_a350.columns = ['code', 'pw_mean_a350_0_to_5cm_std']\n",
    "pw_mean_a350_0_to_5cm_std = mean_a350.set_index('code', drop=True)"
   ]
  },
  {
   "cell_type": "code",
   "execution_count": 17,
   "id": "c56a75c3-b769-4144-a714-24e2c2cc52ea",
   "metadata": {},
   "outputs": [],
   "source": [
    "# Filter for depths between 0 and 5 cm\n",
    "filtered_df = df_cdom_rz[(df_cdom_rz['Sample_depth'] >= 0) & (df_cdom_rz['Sample_depth'] <= 5)]\n",
    "mean_a412 = filtered_df.groupby('code')['acdom_412'].mean().reset_index()\n",
    "mean_a412.columns = ['code', 'rz_mean_a412_0_to_5cm']\n",
    "rz_mean_a412_0_to_5cm = mean_a412.set_index('code', drop=True)"
   ]
  },
  {
   "cell_type": "code",
   "execution_count": 18,
   "id": "5c5488fd-f4c9-4618-97ed-cfffd8a2da5d",
   "metadata": {},
   "outputs": [],
   "source": [
    "# Filter for depths between 0 and 5 cm\n",
    "filtered_df = df_cdom_rz[(df_cdom_rz['Sample_depth'] >= 0) & (df_cdom_rz['Sample_depth'] <= 5)]\n",
    "mean_a412 = filtered_df.groupby('code')['acdom_412'].std().reset_index()\n",
    "mean_a412.columns = ['code', 'rz_mean_a412_0_to_5cm_std']\n",
    "rz_mean_a412_0_to_5cm_std = mean_a412.set_index('code', drop=True)"
   ]
  },
  {
   "cell_type": "code",
   "execution_count": 19,
   "id": "49f426ad-44ba-4ef8-af52-31056865d1c2",
   "metadata": {},
   "outputs": [],
   "source": [
    "# Filter for depths between 0 and 5 cm\n",
    "filtered_df = df_cdom_rz[(df_cdom_rz['Sample_depth'] >= 0) & (df_cdom_rz['Sample_depth'] <= 5)]\n",
    "mean_a350 = filtered_df.groupby('code')['acdom_350'].mean().reset_index()\n",
    "mean_a350.columns = ['code', 'rz_mean_a350_0_to_5cm']\n",
    "rz_mean_a350_0_to_5cm = mean_a350.set_index('code', drop=True)"
   ]
  },
  {
   "cell_type": "code",
   "execution_count": 20,
   "id": "b979b89e-2614-45e2-9a32-2125999a1804",
   "metadata": {},
   "outputs": [],
   "source": [
    "# Filter for depths between 0 and 5 cm\n",
    "filtered_df = df_cdom_rz[(df_cdom_rz['Sample_depth'] >= 0) & (df_cdom_rz['Sample_depth'] <= 5)]\n",
    "mean_a350 = filtered_df.groupby('code')['acdom_350'].std().reset_index()\n",
    "mean_a350.columns = ['code', 'rz_mean_a350_0_to_5cm_std']\n",
    "rz_mean_a350_0_to_5cm_std = mean_a350.set_index('code', drop=True)"
   ]
  },
  {
   "cell_type": "code",
   "execution_count": 21,
   "id": "0f35d4a0-ad44-4448-b332-11f536585d4b",
   "metadata": {},
   "outputs": [],
   "source": [
    "# Filter for depths between 0 and 15 cm\n",
    "filtered_df = df_cdom_pw[(df_cdom_pw['Sample_depth'] >= 0) & (df_cdom_pw['Sample_depth'] <= 15)]\n",
    "mean_a412 = filtered_df.groupby('code')['acdom_412'].mean().reset_index()\n",
    "mean_a412.columns = ['code', 'pw_mean_a412_0_to_15cm']\n",
    "pw_mean_a412_0_to_15cm = mean_a412.set_index('code', drop=True)"
   ]
  },
  {
   "cell_type": "code",
   "execution_count": 22,
   "id": "95b6cdd7-fcdc-403f-b39f-62e14d67412b",
   "metadata": {},
   "outputs": [],
   "source": [
    "# Filter for depths between 0 and 5 cm\n",
    "filtered_df = df_cdom_pw[(df_cdom_pw['Sample_depth'] >= 0) & (df_cdom_pw['Sample_depth'] <= 15)]\n",
    "mean_a412 = filtered_df.groupby('code')['acdom_412'].std().reset_index()\n",
    "mean_a412.columns = ['code', 'pw_mean_a412_0_to_15cm_std']\n",
    "pw_mean_a412_0_to_15cm_std = mean_a412.set_index('code', drop=True)"
   ]
  },
  {
   "cell_type": "code",
   "execution_count": 23,
   "id": "3d8589a7-5384-4253-8d4d-bbc25590ece6",
   "metadata": {},
   "outputs": [],
   "source": [
    "# Filter for depths between 0 and 5 cm\n",
    "filtered_df = df_cdom_pw[(df_cdom_pw['Sample_depth'] >= 0) & (df_cdom_pw['Sample_depth'] <= 15)]\n",
    "mean_a350 = filtered_df.groupby('code')['acdom_350'].mean().reset_index()\n",
    "mean_a350.columns = ['code', 'pw_mean_a350_0_to_15cm']\n",
    "pw_mean_a350_0_to_15cm = mean_a350.set_index('code', drop=True)"
   ]
  },
  {
   "cell_type": "code",
   "execution_count": 24,
   "id": "4e3bf0a1-7c85-4251-8193-213a98e5a6e5",
   "metadata": {},
   "outputs": [],
   "source": [
    "# Filter for depths between 0 and 5 cm\n",
    "filtered_df = df_cdom_pw[(df_cdom_pw['Sample_depth'] >= 0) & (df_cdom_pw['Sample_depth'] <= 15)]\n",
    "mean_a350 = filtered_df.groupby('code')['acdom_350'].std().reset_index()\n",
    "mean_a350.columns = ['code', 'pw_mean_a350_0_to_15cm_std']\n",
    "pw_mean_a350_0_to_15cm_std = mean_a350.set_index('code', drop=True)"
   ]
  },
  {
   "cell_type": "code",
   "execution_count": 25,
   "id": "bca856da-9139-4209-b797-11ae910b5517",
   "metadata": {},
   "outputs": [],
   "source": [
    "# Filter for depths between 0 and 5 cm\n",
    "filtered_df = df_cdom_rz[(df_cdom_rz['Sample_depth'] >= 0) & (df_cdom_rz['Sample_depth'] <= 15)]\n",
    "mean_a412 = filtered_df.groupby('code')['acdom_412'].mean().reset_index()\n",
    "mean_a412.columns = ['code', 'rz_mean_a412_0_to_15cm']\n",
    "rz_mean_a412_0_to_15cm = mean_a412.set_index('code', drop=True)"
   ]
  },
  {
   "cell_type": "code",
   "execution_count": 26,
   "id": "90f70054-41d7-44f9-ba58-d0976a6a5c2b",
   "metadata": {},
   "outputs": [],
   "source": [
    "# Filter for depths between 0 and 5 cm\n",
    "filtered_df = df_cdom_rz[(df_cdom_rz['Sample_depth'] >= 0) & (df_cdom_rz['Sample_depth'] <= 15)]\n",
    "mean_a412 = filtered_df.groupby('code')['acdom_412'].std().reset_index()\n",
    "mean_a412.columns = ['code', 'rz_mean_a412_0_to_15cm_std']\n",
    "rz_mean_a412_0_to_15cm_std = mean_a412.set_index('code', drop=True)"
   ]
  },
  {
   "cell_type": "code",
   "execution_count": 27,
   "id": "6cca22fb-a68b-4a49-ac90-b66fca938081",
   "metadata": {},
   "outputs": [],
   "source": [
    "# Filter for depths between 0 and 5 cm\n",
    "filtered_df = df_cdom_rz[(df_cdom_rz['Sample_depth'] >= 0) & (df_cdom_rz['Sample_depth'] <= 15)]\n",
    "mean_a350 = filtered_df.groupby('code')['acdom_350'].mean().reset_index()\n",
    "mean_a350.columns = ['code', 'rz_mean_a350_0_to_15cm']\n",
    "rz_mean_a350_0_to_15cm = mean_a350.set_index('code', drop=True)"
   ]
  },
  {
   "cell_type": "code",
   "execution_count": 28,
   "id": "8f0aef5c-2f35-4712-9bd4-46174f4df4bb",
   "metadata": {},
   "outputs": [],
   "source": [
    "# Filter for depths between 0 and 5 cm\n",
    "filtered_df = df_cdom_rz[(df_cdom_rz['Sample_depth'] >= 0) & (df_cdom_rz['Sample_depth'] <= 15)]\n",
    "mean_a350 = filtered_df.groupby('code')['acdom_350'].std().reset_index()\n",
    "mean_a350.columns = ['code', 'rz_mean_a350_0_to_15cm_std']\n",
    "rz_mean_a350_0_to_15cm_std = mean_a350.set_index('code', drop=True)"
   ]
  },
  {
   "cell_type": "code",
   "execution_count": 29,
   "id": "1507dd03-7602-4e49-8132-fb4af874083a",
   "metadata": {},
   "outputs": [],
   "source": [
    "# Filter for depths between 0 and 5 cm\n",
    "filtered_df = df_cdom_pw[(df_cdom_pw['Sample_depth'] >= 0) & (df_cdom_pw['Sample_depth'] <= 25)]\n",
    "mean_a412 = filtered_df.groupby('code')['acdom_412'].mean().reset_index()\n",
    "mean_a412.columns = ['code', 'pw_mean_a412_0_to_25cm']\n",
    "pw_mean_a412_0_to_25cm = mean_a412.set_index('code', drop=True)"
   ]
  },
  {
   "cell_type": "code",
   "execution_count": 30,
   "id": "4c36f873-7554-4085-bb26-6d64a9fde5d0",
   "metadata": {},
   "outputs": [],
   "source": [
    "# Filter for depths between 0 and 5 cm\n",
    "filtered_df = df_cdom_pw[(df_cdom_pw['Sample_depth'] >= 0) & (df_cdom_pw['Sample_depth'] <= 25)]\n",
    "mean_a412 = filtered_df.groupby('code')['acdom_412'].std().reset_index()\n",
    "mean_a412.columns = ['code', 'pw_mean_a412_0_to_25cm_std']\n",
    "pw_mean_a412_0_to_25cm_std = mean_a412.set_index('code', drop=True)"
   ]
  },
  {
   "cell_type": "code",
   "execution_count": 31,
   "id": "3516599f-ca1d-409e-9b8e-f747f6453718",
   "metadata": {},
   "outputs": [],
   "source": [
    "# Filter for depths between 0 and 25 cm\n",
    "filtered_df = df_cdom_pw[(df_cdom_pw['Sample_depth'] >= 0) & (df_cdom_pw['Sample_depth'] <= 25)]\n",
    "mean_a350 = filtered_df.groupby('code')['acdom_350'].mean().reset_index()\n",
    "mean_a350.columns = ['code', 'pw_mean_a350_0_to_25cm']\n",
    "pw_mean_a350_0_to_25cm = mean_a350.set_index('code', drop=True)"
   ]
  },
  {
   "cell_type": "code",
   "execution_count": 32,
   "id": "d16005f7-6535-4829-8c4b-6ef43bca2525",
   "metadata": {},
   "outputs": [],
   "source": [
    "# Filter for depths between 0 and 25 cm\n",
    "filtered_df = df_cdom_pw[(df_cdom_pw['Sample_depth'] >= 0) & (df_cdom_pw['Sample_depth'] <= 25)]\n",
    "mean_a350 = filtered_df.groupby('code')['acdom_350'].std().reset_index()\n",
    "mean_a350.columns = ['code', 'pw_mean_a350_0_to_25cm_std']\n",
    "pw_mean_a350_0_to_25cm_std = mean_a350.set_index('code', drop=True)"
   ]
  },
  {
   "cell_type": "code",
   "execution_count": 33,
   "id": "c1f52c56-a1c8-41a3-aebb-6c049f61618a",
   "metadata": {},
   "outputs": [],
   "source": [
    "# Filter for depths between 0 and 5 cm\n",
    "filtered_df = df_cdom_rz[(df_cdom_rz['Sample_depth'] >= 0) & (df_cdom_rz['Sample_depth'] <= 25)]\n",
    "mean_a412 = filtered_df.groupby('code')['acdom_412'].mean().reset_index()\n",
    "mean_a412.columns = ['code', 'rz_mean_a412_0_to_25cm']\n",
    "rz_mean_a412_0_to_25cm = mean_a412.set_index('code', drop=True)"
   ]
  },
  {
   "cell_type": "code",
   "execution_count": 34,
   "id": "4f755ebb-6dfe-4b50-83ef-20780fae0187",
   "metadata": {},
   "outputs": [],
   "source": [
    "# Filter for depths between 0 and 5 cm\n",
    "filtered_df = df_cdom_rz[(df_cdom_rz['Sample_depth'] >= 0) & (df_cdom_rz['Sample_depth'] <= 25)]\n",
    "mean_a412 = filtered_df.groupby('code')['acdom_412'].std().reset_index()\n",
    "mean_a412.columns = ['code', 'rz_mean_a412_0_to_25cm_std']\n",
    "rz_mean_a412_0_to_25cm_std = mean_a412.set_index('code', drop=True)"
   ]
  },
  {
   "cell_type": "code",
   "execution_count": 35,
   "id": "de9cf5e6-c7da-49a2-a9f5-1252a8a178b4",
   "metadata": {},
   "outputs": [],
   "source": [
    "# Filter for depths between 0 and 25 cm\n",
    "filtered_df = df_cdom_rz[(df_cdom_rz['Sample_depth'] >= 0) & (df_cdom_rz['Sample_depth'] <= 25)]\n",
    "mean_a350 = filtered_df.groupby('code')['acdom_350'].mean().reset_index()\n",
    "mean_a350.columns = ['code', 'rz_mean_a350_0_to_25cm']\n",
    "rz_mean_a350_0_to_25cm = mean_a350.set_index('code', drop=True)"
   ]
  },
  {
   "cell_type": "code",
   "execution_count": 36,
   "id": "1dac77c6-8cbd-4636-9f74-37de5bd1fe54",
   "metadata": {},
   "outputs": [],
   "source": [
    "# Filter for depths between 0 and 25 cm\n",
    "filtered_df = df_cdom_rz[(df_cdom_rz['Sample_depth'] >= 0) & (df_cdom_rz['Sample_depth'] <= 25)]\n",
    "mean_a350 = filtered_df.groupby('code')['acdom_350'].std().reset_index()\n",
    "mean_a350.columns = ['code', 'rz_mean_a350_0_to_25cm_std']\n",
    "rz_mean_a350_0_to_25cm_std = mean_a350.set_index('code', drop=True)"
   ]
  },
  {
   "cell_type": "code",
   "execution_count": 37,
   "id": "8399f234-7e43-4f5d-9e08-6238bd5d20fe",
   "metadata": {},
   "outputs": [],
   "source": [
    "# Filter for depths between 0 and 5 cm\n",
    "filtered_df = df_cdom_pw[(df_cdom_pw['Sample_depth'] >= 5) & (df_cdom_pw['Sample_depth'] <= 25)]\n",
    "mean_a412 = filtered_df.groupby('code')['acdom_412'].mean().reset_index()\n",
    "mean_a412.columns = ['code', 'pw_mean_a412_5_to_25cm']\n",
    "pw_mean_a412_5_to_25cm = mean_a412.set_index('code', drop=True)"
   ]
  },
  {
   "cell_type": "code",
   "execution_count": 38,
   "id": "3c62ef23-ec56-4795-b720-61e4c85f5eb2",
   "metadata": {},
   "outputs": [],
   "source": [
    "# Filter for depths between 0 and 5 cm\n",
    "filtered_df = df_cdom_pw[(df_cdom_pw['Sample_depth'] >= 5) & (df_cdom_pw['Sample_depth'] <= 25)]\n",
    "mean_a412 = filtered_df.groupby('code')['acdom_412'].std().reset_index()\n",
    "mean_a412.columns = ['code', 'pw_mean_a412_5_to_25cm_std']\n",
    "pw_mean_a412_5_to_25cm_std = mean_a412.set_index('code', drop=True)"
   ]
  },
  {
   "cell_type": "code",
   "execution_count": 39,
   "id": "a743c869-0575-471a-88df-b6c62c5bd3b5",
   "metadata": {},
   "outputs": [],
   "source": [
    "# Filter for depths between 5 and 25 cm\n",
    "filtered_df = df_cdom_pw[(df_cdom_pw['Sample_depth'] >= 5) & (df_cdom_pw['Sample_depth'] <= 25)]\n",
    "mean_a350 = filtered_df.groupby('code')['acdom_350'].mean().reset_index()\n",
    "mean_a350.columns = ['code', 'pw_mean_a350_5_to_25cm']\n",
    "pw_mean_a350_5_to_25cm = mean_a350.set_index('code', drop=True)"
   ]
  },
  {
   "cell_type": "code",
   "execution_count": 40,
   "id": "01a9870f-d8d9-47bb-9f2d-e4b6b9bfa3a0",
   "metadata": {},
   "outputs": [],
   "source": [
    "# Filter for depths between 5 and 25 cm\n",
    "filtered_df = df_cdom_pw[(df_cdom_pw['Sample_depth'] >= 5) & (df_cdom_pw['Sample_depth'] <= 25)]\n",
    "mean_a350 = filtered_df.groupby('code')['acdom_350'].std().reset_index()\n",
    "mean_a350.columns = ['code', 'pw_mean_a350_5_to_25cm_std']\n",
    "pw_mean_a350_5_to_25cm_std = mean_a350.set_index('code', drop=True)"
   ]
  },
  {
   "cell_type": "code",
   "execution_count": 41,
   "id": "e7e509d9-81e9-4cc9-bb54-dc1f5ff2bdf2",
   "metadata": {},
   "outputs": [],
   "source": [
    "# Filter for depths between 0 and 5 cm\n",
    "filtered_df = df_cdom_rz[(df_cdom_rz['Sample_depth'] >= 5) & (df_cdom_rz['Sample_depth'] <= 25)]\n",
    "mean_a412 = filtered_df.groupby('code')['acdom_412'].mean().reset_index()\n",
    "mean_a412.columns = ['code', 'rz_mean_a412_5_to_25cm']\n",
    "rz_mean_a412_5_to_25cm = mean_a412.set_index('code', drop=True)"
   ]
  },
  {
   "cell_type": "code",
   "execution_count": 42,
   "id": "43229b09-9ceb-4822-9f93-4ca6778034a9",
   "metadata": {
    "scrolled": true
   },
   "outputs": [],
   "source": [
    "# Filter for depths between 0 and 5 cm\n",
    "filtered_df = df_cdom_rz[(df_cdom_rz['Sample_depth'] >= 5) & (df_cdom_rz['Sample_depth'] <= 25)]\n",
    "mean_a412 = filtered_df.groupby('code')['acdom_412'].std().reset_index()\n",
    "mean_a412.columns = ['code', 'rz_mean_a412_5_to_25cm_std']\n",
    "rz_mean_a412_5_to_25cm_std = mean_a412.set_index('code', drop=True)"
   ]
  },
  {
   "cell_type": "code",
   "execution_count": 43,
   "id": "30aa066b-abd3-453f-b6e9-c8426e89398f",
   "metadata": {
    "scrolled": true
   },
   "outputs": [],
   "source": [
    "# Filter for depths between 5 and 25 cm\n",
    "filtered_df = df_cdom_rz[(df_cdom_rz['Sample_depth'] >= 5) & (df_cdom_rz['Sample_depth'] <= 25)]\n",
    "mean_a350 = filtered_df.groupby('code')['acdom_350'].mean().reset_index()\n",
    "mean_a350.columns = ['code', 'rz_mean_a350_5_to_25cm']\n",
    "rz_mean_a350_5_to_25cm = mean_a350.set_index('code', drop=True)"
   ]
  },
  {
   "cell_type": "code",
   "execution_count": 44,
   "id": "969bfabe-1e58-45c7-8e20-fcd60877e882",
   "metadata": {
    "scrolled": true
   },
   "outputs": [],
   "source": [
    "# Filter for depths between 5 and 25 cm\n",
    "filtered_df = df_cdom_rz[(df_cdom_rz['Sample_depth'] >= 5) & (df_cdom_rz['Sample_depth'] <= 25)]\n",
    "mean_a350 = filtered_df.groupby('code')['acdom_350'].std().reset_index()\n",
    "mean_a350.columns = ['code', 'rz_mean_a350_5_to_25cm_std']\n",
    "rz_mean_a350_5_to_25cm_std = mean_a350.set_index('code', drop=True)"
   ]
  },
  {
   "cell_type": "code",
   "execution_count": 45,
   "id": "c74dd7f8-6700-469c-b466-4054b0220ce2",
   "metadata": {},
   "outputs": [],
   "source": [
    "def cal_inflec(df_cdom):\n",
    "    df_cdom[\"a350_norm\"] = (df_cdom[\"a350\"] - df_cdom[\"a400\"]) / (df_cdom[\"a300\"] - df_cdom[\"a400\"])\n",
    "    df_cdom[\"a325_norm\"] = (df_cdom[\"a325\"] - df_cdom[\"a400\"]) / (df_cdom[\"a300\"] - df_cdom[\"a400\"])\n",
    "    df_cdom[\"a375_norm\"] = (df_cdom[\"a375\"] - df_cdom[\"a400\"]) / (df_cdom[\"a300\"] - df_cdom[\"a400\"])\n",
    "    df_cdom[\"a_infelc\"] = df_cdom[\"a350_norm\"] / ((df_cdom[\"a325_norm\"] + df_cdom[\"a375_norm\"])/2)\n",
    "\n",
    "cal_inflec(df_cdom_pw)\n",
    "cal_inflec(df_cdom_rz)"
   ]
  },
  {
   "cell_type": "code",
   "execution_count": 46,
   "id": "e72beac5-7119-40dc-889d-cbe4bec73cee",
   "metadata": {},
   "outputs": [],
   "source": [
    "# Filter for depths between 0 and 5 cm\n",
    "filtered_df = df_cdom_pw[(df_cdom_pw['Sample_depth'] >= 0) & (df_cdom_pw['Sample_depth'] <= 15)]\n",
    "mean_a350 = filtered_df.groupby('code')['a_infelc'].mean().reset_index()\n",
    "mean_a350.columns = ['code', 'pw_mean_a350_inflec_0_to_15cm']\n",
    "pw_mean_a350_inflec_0_to_15cm = mean_a350.set_index('code', drop=True)"
   ]
  },
  {
   "cell_type": "code",
   "execution_count": 47,
   "id": "497e84ce-7aff-4e1d-bdeb-b9b82f147f39",
   "metadata": {},
   "outputs": [],
   "source": [
    "# Filter for depths between 0 and 5 cm\n",
    "filtered_df = df_cdom_pw[(df_cdom_pw['Sample_depth'] >= 0) & (df_cdom_pw['Sample_depth'] <= 15)]\n",
    "mean_a350 = filtered_df.groupby('code')['a_infelc'].std().reset_index()\n",
    "mean_a350.columns = ['code', 'pw_mean_a350_inflec_0_to_15cm_std']\n",
    "pw_mean_a350_inflec_0_to_15cm_std = mean_a350.set_index('code', drop=True)"
   ]
  },
  {
   "cell_type": "code",
   "execution_count": 48,
   "id": "38c35ad8-e76b-46ed-90c1-930d16e85da9",
   "metadata": {},
   "outputs": [
    {
     "data": {
      "text/html": [
       "<div>\n",
       "<style scoped>\n",
       "    .dataframe tbody tr th:only-of-type {\n",
       "        vertical-align: middle;\n",
       "    }\n",
       "\n",
       "    .dataframe tbody tr th {\n",
       "        vertical-align: top;\n",
       "    }\n",
       "\n",
       "    .dataframe thead th {\n",
       "        text-align: right;\n",
       "    }\n",
       "</style>\n",
       "<table border=\"1\" class=\"dataframe\">\n",
       "  <thead>\n",
       "    <tr style=\"text-align: right;\">\n",
       "      <th></th>\n",
       "      <th>rz_mean_a350_inflec_0_to_15cm</th>\n",
       "    </tr>\n",
       "    <tr>\n",
       "      <th>code</th>\n",
       "      <th></th>\n",
       "    </tr>\n",
       "  </thead>\n",
       "  <tbody>\n",
       "    <tr>\n",
       "      <th>shelf</th>\n",
       "      <td>0.874072</td>\n",
       "    </tr>\n",
       "    <tr>\n",
       "      <th>shelf_shallow</th>\n",
       "      <td>0.885489</td>\n",
       "    </tr>\n",
       "    <tr>\n",
       "      <th>slope</th>\n",
       "      <td>0.879346</td>\n",
       "    </tr>\n",
       "  </tbody>\n",
       "</table>\n",
       "</div>"
      ],
      "text/plain": [
       "               rz_mean_a350_inflec_0_to_15cm\n",
       "code                                        \n",
       "shelf                               0.874072\n",
       "shelf_shallow                       0.885489\n",
       "slope                               0.879346"
      ]
     },
     "execution_count": 48,
     "metadata": {},
     "output_type": "execute_result"
    }
   ],
   "source": [
    "# Filter for depths between 0 and 5 cm\n",
    "filtered_df = df_cdom_rz[(df_cdom_rz['Sample_depth'] >= 0) & (df_cdom_rz['Sample_depth'] <= 15)]\n",
    "mean_a350 = filtered_df.groupby('code')['a_infelc'].mean().reset_index()\n",
    "mean_a350.columns = ['code', 'rz_mean_a350_inflec_0_to_15cm']\n",
    "rz_mean_a350_inflec_0_to_15cm = mean_a350.set_index('code', drop=True)\n",
    "rz_mean_a350_inflec_0_to_15cm"
   ]
  },
  {
   "cell_type": "code",
   "execution_count": 55,
   "id": "4056cf01-87a8-456e-b48a-eaa077ca724c",
   "metadata": {},
   "outputs": [
    {
     "name": "stdout",
     "output_type": "stream",
     "text": [
      "        a_infelc\n",
      "215400  0.215198\n",
      "215000  0.283609\n",
      "215000  0.327987\n",
      "215000  0.371389\n",
      "224800  0.406643\n",
      "224700  0.441235\n",
      "212806  0.498576\n",
      "224400  0.541468\n",
      "224701  0.544662\n",
      "225100  0.547627\n",
      "212802  0.551079\n",
      "215002  0.551263\n",
      "215002  0.557731\n",
      "212806  0.561125\n",
      "212806  0.564918\n"
     ]
    }
   ],
   "source": [
    "# Sort the DataFrame by 'a_infelc' in ascending order\n",
    "sorted_df = filtered_df.sort_values(by='a_infelc', ascending=True)\n",
    "\n",
    "# Print the top 15 lowest values and their indices\n",
    "print(sorted_df[['a_infelc']].head(15))\n"
   ]
  },
  {
   "cell_type": "code",
   "execution_count": 56,
   "id": "83a56dd9-9a54-489d-a5ce-1ea631ef84e2",
   "metadata": {},
   "outputs": [
    {
     "data": {
      "text/html": [
       "<div>\n",
       "<style scoped>\n",
       "    .dataframe tbody tr th:only-of-type {\n",
       "        vertical-align: middle;\n",
       "    }\n",
       "\n",
       "    .dataframe tbody tr th {\n",
       "        vertical-align: top;\n",
       "    }\n",
       "\n",
       "    .dataframe thead th {\n",
       "        text-align: right;\n",
       "    }\n",
       "</style>\n",
       "<table border=\"1\" class=\"dataframe\">\n",
       "  <thead>\n",
       "    <tr style=\"text-align: right;\">\n",
       "      <th></th>\n",
       "      <th>rz_mean_a350_inflec_0_to_15cm_std</th>\n",
       "    </tr>\n",
       "    <tr>\n",
       "      <th>code</th>\n",
       "      <th></th>\n",
       "    </tr>\n",
       "  </thead>\n",
       "  <tbody>\n",
       "    <tr>\n",
       "      <th>shelf</th>\n",
       "      <td>0.092228</td>\n",
       "    </tr>\n",
       "    <tr>\n",
       "      <th>shelf_shallow</th>\n",
       "      <td>0.248772</td>\n",
       "    </tr>\n",
       "    <tr>\n",
       "      <th>slope</th>\n",
       "      <td>0.151791</td>\n",
       "    </tr>\n",
       "  </tbody>\n",
       "</table>\n",
       "</div>"
      ],
      "text/plain": [
       "               rz_mean_a350_inflec_0_to_15cm_std\n",
       "code                                            \n",
       "shelf                                   0.092228\n",
       "shelf_shallow                           0.248772\n",
       "slope                                   0.151791"
      ]
     },
     "execution_count": 56,
     "metadata": {},
     "output_type": "execute_result"
    }
   ],
   "source": [
    "# Filter for depths between 0 and 5 cm\n",
    "filtered_df = df_cdom_rz[(df_cdom_rz['Sample_depth'] >= 0) & (df_cdom_rz['Sample_depth'] <= 15)]\n",
    "mean_a350 = filtered_df.groupby('code')['a_infelc'].std().reset_index()\n",
    "mean_a350.columns = ['code', 'rz_mean_a350_inflec_0_to_15cm_std']\n",
    "rz_mean_a350_inflec_0_to_15cm_std = mean_a350.set_index('code', drop=True)\n",
    "rz_mean_a350_inflec_0_to_15cm_std"
   ]
  },
  {
   "cell_type": "code",
   "execution_count": 51,
   "id": "2dccc358-d4a2-4bb5-981a-24b602ebc20a",
   "metadata": {},
   "outputs": [
    {
     "data": {
      "text/html": [
       "<div>\n",
       "<style scoped>\n",
       "    .dataframe tbody tr th:only-of-type {\n",
       "        vertical-align: middle;\n",
       "    }\n",
       "\n",
       "    .dataframe tbody tr th {\n",
       "        vertical-align: top;\n",
       "    }\n",
       "\n",
       "    .dataframe thead th {\n",
       "        text-align: right;\n",
       "    }\n",
       "</style>\n",
       "<table border=\"1\" class=\"dataframe\">\n",
       "  <thead>\n",
       "    <tr style=\"text-align: right;\">\n",
       "      <th></th>\n",
       "      <th>n_rz</th>\n",
       "    </tr>\n",
       "    <tr>\n",
       "      <th>code</th>\n",
       "      <th></th>\n",
       "    </tr>\n",
       "  </thead>\n",
       "  <tbody>\n",
       "    <tr>\n",
       "      <th>shelf</th>\n",
       "      <td>9</td>\n",
       "    </tr>\n",
       "    <tr>\n",
       "      <th>shelf_shallow</th>\n",
       "      <td>9</td>\n",
       "    </tr>\n",
       "    <tr>\n",
       "      <th>slope</th>\n",
       "      <td>7</td>\n",
       "    </tr>\n",
       "  </tbody>\n",
       "</table>\n",
       "</div>"
      ],
      "text/plain": [
       "               n_rz\n",
       "code               \n",
       "shelf             9\n",
       "shelf_shallow     9\n",
       "slope             7"
      ]
     },
     "execution_count": 51,
     "metadata": {},
     "output_type": "execute_result"
    }
   ],
   "source": [
    "# Filter for depths between 5 and 25 cm\n",
    "filtered_df = df_cdom_rz\n",
    "mean_a350 = (\n",
    "    filtered_df.groupby('code')['code_ID']\n",
    "    .nunique()\n",
    "    .reset_index(name='unique_station_count')\n",
    ")\n",
    "mean_a350.columns = ['code', 'n_rz']\n",
    "n_rz = mean_a350.set_index('code', drop=True)\n",
    "n_rz"
   ]
  },
  {
   "cell_type": "code",
   "execution_count": 52,
   "id": "9981ebd4-97dd-4408-84a7-b44677f246ff",
   "metadata": {},
   "outputs": [
    {
     "data": {
      "text/html": [
       "<div>\n",
       "<style scoped>\n",
       "    .dataframe tbody tr th:only-of-type {\n",
       "        vertical-align: middle;\n",
       "    }\n",
       "\n",
       "    .dataframe tbody tr th {\n",
       "        vertical-align: top;\n",
       "    }\n",
       "\n",
       "    .dataframe thead th {\n",
       "        text-align: right;\n",
       "    }\n",
       "</style>\n",
       "<table border=\"1\" class=\"dataframe\">\n",
       "  <thead>\n",
       "    <tr style=\"text-align: right;\">\n",
       "      <th></th>\n",
       "      <th>n_pw</th>\n",
       "    </tr>\n",
       "    <tr>\n",
       "      <th>code</th>\n",
       "      <th></th>\n",
       "    </tr>\n",
       "  </thead>\n",
       "  <tbody>\n",
       "    <tr>\n",
       "      <th>shelf</th>\n",
       "      <td>15</td>\n",
       "    </tr>\n",
       "    <tr>\n",
       "      <th>shelf_shallow</th>\n",
       "      <td>13</td>\n",
       "    </tr>\n",
       "    <tr>\n",
       "      <th>slope</th>\n",
       "      <td>12</td>\n",
       "    </tr>\n",
       "  </tbody>\n",
       "</table>\n",
       "</div>"
      ],
      "text/plain": [
       "               n_pw\n",
       "code               \n",
       "shelf            15\n",
       "shelf_shallow    13\n",
       "slope            12"
      ]
     },
     "execution_count": 52,
     "metadata": {},
     "output_type": "execute_result"
    }
   ],
   "source": [
    "# Filter for depths between 5 and 25 cm\n",
    "filtered_df = df_cdom_pw\n",
    "mean_a350 = (\n",
    "    filtered_df.groupby('code')['code_ID']\n",
    "    .nunique()\n",
    "    .reset_index(name='unique_station_count')\n",
    ")\n",
    "mean_a350.columns = ['code', 'n_pw']\n",
    "n_pw = mean_a350.set_index('code', drop=True)\n",
    "n_pw"
   ]
  },
  {
   "cell_type": "code",
   "execution_count": 53,
   "id": "8321f65c",
   "metadata": {
    "scrolled": true
   },
   "outputs": [
    {
     "data": {
      "text/html": [
       "<div>\n",
       "<style scoped>\n",
       "    .dataframe tbody tr th:only-of-type {\n",
       "        vertical-align: middle;\n",
       "    }\n",
       "\n",
       "    .dataframe tbody tr th {\n",
       "        vertical-align: top;\n",
       "    }\n",
       "\n",
       "    .dataframe thead th {\n",
       "        text-align: right;\n",
       "    }\n",
       "</style>\n",
       "<table border=\"1\" class=\"dataframe\">\n",
       "  <thead>\n",
       "    <tr style=\"text-align: right;\">\n",
       "      <th></th>\n",
       "      <th>n_pw</th>\n",
       "      <th>n_rz</th>\n",
       "      <th>pw_mean_a350_inflec_0_to_15cm</th>\n",
       "      <th>pw_mean_a350_inflec_0_to_15cm_std</th>\n",
       "      <th>rz_mean_a350_inflec_0_to_15cm</th>\n",
       "      <th>rz_mean_a350_inflec_0_to_15cm_std</th>\n",
       "      <th>pw_mean_a412_0_to_15cm</th>\n",
       "      <th>rz_mean_a412_0_to_15cm</th>\n",
       "      <th>pw_mean_a350_0_to_15cm</th>\n",
       "      <th>rz_mean_a350_0_to_15cm</th>\n",
       "      <th>pw_mean_a412_0_to_15cm_std</th>\n",
       "      <th>rz_mean_a412_0_to_15cm_std</th>\n",
       "      <th>pw_mean_a350_0_to_15cm_std</th>\n",
       "      <th>rz_mean_a350_0_to_15cm_std</th>\n",
       "    </tr>\n",
       "    <tr>\n",
       "      <th>code</th>\n",
       "      <th></th>\n",
       "      <th></th>\n",
       "      <th></th>\n",
       "      <th></th>\n",
       "      <th></th>\n",
       "      <th></th>\n",
       "      <th></th>\n",
       "      <th></th>\n",
       "      <th></th>\n",
       "      <th></th>\n",
       "      <th></th>\n",
       "      <th></th>\n",
       "      <th></th>\n",
       "      <th></th>\n",
       "    </tr>\n",
       "  </thead>\n",
       "  <tbody>\n",
       "    <tr>\n",
       "      <th>shelf</th>\n",
       "      <td>15</td>\n",
       "      <td>9</td>\n",
       "      <td>0.991496</td>\n",
       "      <td>0.085950</td>\n",
       "      <td>0.874072</td>\n",
       "      <td>0.092228</td>\n",
       "      <td>37.558086</td>\n",
       "      <td>3.685115</td>\n",
       "      <td>67.471576</td>\n",
       "      <td>8.766516</td>\n",
       "      <td>32.662696</td>\n",
       "      <td>2.213608</td>\n",
       "      <td>51.018795</td>\n",
       "      <td>6.091076</td>\n",
       "    </tr>\n",
       "    <tr>\n",
       "      <th>shelf_shallow</th>\n",
       "      <td>13</td>\n",
       "      <td>9</td>\n",
       "      <td>0.994619</td>\n",
       "      <td>0.071572</td>\n",
       "      <td>0.885489</td>\n",
       "      <td>0.248772</td>\n",
       "      <td>21.901262</td>\n",
       "      <td>4.950192</td>\n",
       "      <td>40.689586</td>\n",
       "      <td>10.482538</td>\n",
       "      <td>20.747356</td>\n",
       "      <td>5.278692</td>\n",
       "      <td>34.310661</td>\n",
       "      <td>12.410816</td>\n",
       "    </tr>\n",
       "    <tr>\n",
       "      <th>slope</th>\n",
       "      <td>12</td>\n",
       "      <td>7</td>\n",
       "      <td>0.958210</td>\n",
       "      <td>0.117593</td>\n",
       "      <td>0.879346</td>\n",
       "      <td>0.151791</td>\n",
       "      <td>10.745653</td>\n",
       "      <td>2.315812</td>\n",
       "      <td>22.942769</td>\n",
       "      <td>5.740829</td>\n",
       "      <td>9.538399</td>\n",
       "      <td>1.710048</td>\n",
       "      <td>20.019387</td>\n",
       "      <td>4.218277</td>\n",
       "    </tr>\n",
       "  </tbody>\n",
       "</table>\n",
       "</div>"
      ],
      "text/plain": [
       "               n_pw  n_rz  pw_mean_a350_inflec_0_to_15cm  \\\n",
       "code                                                       \n",
       "shelf            15     9                       0.991496   \n",
       "shelf_shallow    13     9                       0.994619   \n",
       "slope            12     7                       0.958210   \n",
       "\n",
       "               pw_mean_a350_inflec_0_to_15cm_std  \\\n",
       "code                                               \n",
       "shelf                                   0.085950   \n",
       "shelf_shallow                           0.071572   \n",
       "slope                                   0.117593   \n",
       "\n",
       "               rz_mean_a350_inflec_0_to_15cm  \\\n",
       "code                                           \n",
       "shelf                               0.874072   \n",
       "shelf_shallow                       0.885489   \n",
       "slope                               0.879346   \n",
       "\n",
       "               rz_mean_a350_inflec_0_to_15cm_std  pw_mean_a412_0_to_15cm  \\\n",
       "code                                                                       \n",
       "shelf                                   0.092228               37.558086   \n",
       "shelf_shallow                           0.248772               21.901262   \n",
       "slope                                   0.151791               10.745653   \n",
       "\n",
       "               rz_mean_a412_0_to_15cm  pw_mean_a350_0_to_15cm  \\\n",
       "code                                                            \n",
       "shelf                        3.685115               67.471576   \n",
       "shelf_shallow                4.950192               40.689586   \n",
       "slope                        2.315812               22.942769   \n",
       "\n",
       "               rz_mean_a350_0_to_15cm  pw_mean_a412_0_to_15cm_std  \\\n",
       "code                                                                \n",
       "shelf                        8.766516                   32.662696   \n",
       "shelf_shallow               10.482538                   20.747356   \n",
       "slope                        5.740829                    9.538399   \n",
       "\n",
       "               rz_mean_a412_0_to_15cm_std  pw_mean_a350_0_to_15cm_std  \\\n",
       "code                                                                    \n",
       "shelf                            2.213608                   51.018795   \n",
       "shelf_shallow                    5.278692                   34.310661   \n",
       "slope                            1.710048                   20.019387   \n",
       "\n",
       "               rz_mean_a350_0_to_15cm_std  \n",
       "code                                       \n",
       "shelf                            6.091076  \n",
       "shelf_shallow                   12.410816  \n",
       "slope                            4.218277  "
      ]
     },
     "execution_count": 53,
     "metadata": {},
     "output_type": "execute_result"
    }
   ],
   "source": [
    "stocks_pw_cdom = pd.concat([n_pw, n_rz, pw_mean_a412_0_to_5cm, rz_mean_a412_0_to_5cm, \n",
    "                          pw_mean_a412_0_to_15cm, rz_mean_a412_0_to_15cm, \n",
    "                          pw_mean_a412_0_to_25cm, rz_mean_a412_0_to_25cm, \n",
    "                          pw_mean_a412_5_to_25cm, rz_mean_a412_5_to_25cm, \n",
    "                          pw_mean_a350_0_to_5cm, rz_mean_a350_0_to_5cm, \n",
    "                          pw_mean_a350_0_to_15cm, rz_mean_a350_0_to_15cm, \n",
    "                          pw_mean_a350_0_to_25cm, rz_mean_a350_0_to_25cm, \n",
    "                          pw_mean_a350_5_to_25cm, rz_mean_a350_5_to_25cm, \n",
    "                          pw_mean_a412_0_to_5cm_std, rz_mean_a412_0_to_5cm_std, \n",
    "                          pw_mean_a412_0_to_15cm_std, rz_mean_a412_0_to_15cm_std, \n",
    "                          pw_mean_a412_0_to_25cm_std, rz_mean_a412_0_to_25cm_std, \n",
    "                          pw_mean_a412_5_to_25cm_std, rz_mean_a412_5_to_25cm_std, \n",
    "                          pw_mean_a350_0_to_5cm_std, rz_mean_a350_0_to_5cm_std, \n",
    "                          pw_mean_a350_0_to_15cm_std, rz_mean_a350_0_to_15cm_std, \n",
    "                          pw_mean_a350_0_to_25cm_std, rz_mean_a350_0_to_25cm_std, \n",
    "                          pw_mean_a350_5_to_25cm_std, rz_mean_a350_5_to_25cm_std], axis=1)\n",
    "\n",
    "stocks_pw_cdom = pd.concat([n_pw, n_rz, pw_mean_a350_inflec_0_to_15cm, \n",
    "                            pw_mean_a350_inflec_0_to_15cm_std, \n",
    "                            rz_mean_a350_inflec_0_to_15cm, \n",
    "                            rz_mean_a350_inflec_0_to_15cm_std, \n",
    "                            pw_mean_a412_0_to_15cm, rz_mean_a412_0_to_15cm, \n",
    "                            pw_mean_a350_0_to_15cm, rz_mean_a350_0_to_15cm, \n",
    "                            pw_mean_a412_0_to_15cm_std, rz_mean_a412_0_to_15cm_std, \n",
    "                            pw_mean_a350_0_to_15cm_std, rz_mean_a350_0_to_15cm_std, ], axis=1)\n",
    "\n",
    "stocks_pw_cdom.to_csv('../Dissertation_projects/CDOM_Tracer_and_Proxy_Project/GOM_CDOM_stocks.csv')\n",
    "#stocks_pw_cdom.to_csv('../Dissertation_projects/Data/Stats_data_sets/CDOM_stocks.csv')\n",
    "stocks_pw_cdom"
   ]
  },
  {
   "cell_type": "code",
   "execution_count": null,
   "id": "1d48c85e-d33a-4345-8fde-68bd803137f8",
   "metadata": {},
   "outputs": [],
   "source": [
    "mds_spectra_pw = pd.read_csv('../Cruise_2024/Data/MSD_sprectra_pchip_baseline_corrected_PW.csv',sep=',', index_col=0)\n",
    "mds_spectra_rz = pd.read_csv('../Cruise_2024/Data/MSD_sprectra_pchip_baseline_corrected_RZ.csv',sep=',', index_col=0)\n",
    "\n",
    "mds_spectra_pw.columns = ['a' + col for col in mds_spectra_pw.columns]\n",
    "mds_spectra_rz.columns = ['a' + col for col in mds_spectra_rz.columns]\n",
    "\n",
    "mds_spectra_pw = mds_spectra_pw.drop(241501)\n",
    "\n",
    "mds_toc = pd.read_csv('../Cruise_2024/Data/TOC_MDS_Depths.csv', sep=',', index_col=0)\n",
    "\n",
    "#'CL8', 'CL7', 'CL5', 'P', 'N', 'D', 'I', 'E', 'CL13', 'CL11'\n",
    "mds_toc.loc[mds_toc['Location'] == 'CL8', 'code'] = 'Cape_lookout'\n",
    "mds_toc.loc[mds_toc['Location'] == 'CL7', 'code'] = 'Cape_lookout'\n",
    "mds_toc.loc[mds_toc['Location'] == 'CL5', 'code'] = 'Cape_lookout'\n",
    "mds_toc.loc[mds_toc['Location'] == 'CL13', 'code'] = 'Cape_lookout'\n",
    "mds_toc.loc[mds_toc['Location'] == 'CL11', 'code'] = 'Cape_lookout'\n",
    "mds_toc.loc[mds_toc['Location'] == 'P', 'code'] = 'Vergina_slope'\n",
    "mds_toc.loc[mds_toc['Location'] == 'N', 'code'] = 'Vergina_slope'\n",
    "mds_toc.loc[mds_toc['Location'] == 'D', 'code'] = 'Vergina_slope'\n",
    "mds_toc.loc[mds_toc['Location'] == 'I', 'code'] = 'Vergina_slope'\n",
    "mds_toc.loc[mds_toc['Location'] == 'E', 'code'] = 'Vergina_slope'\n",
    "\n",
    "mds_toc_rz = mds_toc[mds_toc['Type'] == \"RHZ\"]\n",
    "mds_toc_pw = mds_toc[mds_toc['Type'] == \"CENT\"]\n",
    "\n",
    "mds_cdom_pw = mds_toc_pw.join(mds_spectra_pw)\n",
    "mds_cdom_rz = mds_toc_rz.join(mds_spectra_rz)\n",
    "\n",
    "mds_cdom_pw['Sample_depth'] = mds_cdom_pw['Depth']\n",
    "mds_cdom_rz['Sample_depth'] = mds_cdom_rz['Depth']\n",
    "\n",
    "df_cdom_pw = mds_cdom_pw\n",
    "df_cdom_rz = mds_cdom_rz\n",
    "\n",
    "df_cdom_pw['acdom_412'] = pd.to_numeric(df_cdom_pw['a412'], errors='coerce')\n",
    "df_cdom_pw['acdom_350'] = pd.to_numeric(df_cdom_pw['a350'], errors='coerce')\n",
    "\n",
    "df_cdom_rz['acdom_412'] = pd.to_numeric(df_cdom_rz['a412'], errors='coerce')\n",
    "df_cdom_rz['acdom_350'] = pd.to_numeric(df_cdom_rz['a350'], errors='coerce')"
   ]
  },
  {
   "cell_type": "code",
   "execution_count": null,
   "id": "545fb2b1-fa98-44dd-9810-6178fe8c15f7",
   "metadata": {},
   "outputs": [],
   "source": [
    "# Filter for depths between 0 and 5 cm\n",
    "filtered_df = df_cdom_pw[(df_cdom_pw['Sample_depth'] >= 0) & (df_cdom_pw['Sample_depth'] <= 5)]\n",
    "mean_a412 = filtered_df.groupby('code')['acdom_412'].mean().reset_index()\n",
    "mean_a412.columns = ['code', 'pw_mean_a412_0_to_5cm']\n",
    "pw_mean_a412_0_to_5cm = mean_a412.set_index('code', drop=True)"
   ]
  },
  {
   "cell_type": "code",
   "execution_count": null,
   "id": "2599ee22-1d75-4246-95d4-8bbceb7b945f",
   "metadata": {},
   "outputs": [],
   "source": [
    "# Filter for depths between 0 and 5 cm\n",
    "filtered_df = df_cdom_pw[(df_cdom_pw['Sample_depth'] >= 0) & (df_cdom_pw['Sample_depth'] <= 5)]\n",
    "mean_a412 = filtered_df.groupby('code')['acdom_412'].std().reset_index()\n",
    "mean_a412.columns = ['code', 'pw_mean_a412_0_to_5cm_std']\n",
    "pw_mean_a412_0_to_5cm_std = mean_a412.set_index('code', drop=True)"
   ]
  },
  {
   "cell_type": "code",
   "execution_count": null,
   "id": "33f08e95-4a64-4144-bffd-b6a048ecfb49",
   "metadata": {},
   "outputs": [],
   "source": [
    "# Filter for depths between 0 and 5 cm\n",
    "filtered_df = df_cdom_pw[(df_cdom_pw['Sample_depth'] >= 0) & (df_cdom_pw['Sample_depth'] <= 5)]\n",
    "mean_a350 = filtered_df.groupby('code')['acdom_350'].mean().reset_index()\n",
    "mean_a350.columns = ['code', 'pw_mean_a350_0_to_5cm']\n",
    "pw_mean_a350_0_to_5cm = mean_a350.set_index('code', drop=True)"
   ]
  },
  {
   "cell_type": "code",
   "execution_count": null,
   "id": "e8a2db4f-312f-4033-bc39-c7aad1a65bca",
   "metadata": {},
   "outputs": [],
   "source": [
    "# Filter for depths between 0 and 5 cm\n",
    "filtered_df = df_cdom_pw[(df_cdom_pw['Sample_depth'] >= 0) & (df_cdom_pw['Sample_depth'] <= 5)]\n",
    "mean_a350 = filtered_df.groupby('code')['acdom_350'].std().reset_index()\n",
    "mean_a350.columns = ['code', 'pw_mean_a350_0_to_5cm_std']\n",
    "pw_mean_a350_0_to_5cm_std = mean_a350.set_index('code', drop=True)"
   ]
  },
  {
   "cell_type": "code",
   "execution_count": null,
   "id": "83a59bc1-ce51-45d6-9863-e305a5cef362",
   "metadata": {},
   "outputs": [],
   "source": [
    "# Filter for depths between 0 and 5 cm\n",
    "filtered_df = df_cdom_rz[(df_cdom_rz['Sample_depth'] >= 0) & (df_cdom_rz['Sample_depth'] <= 5)]\n",
    "mean_a412 = filtered_df.groupby('code')['acdom_412'].mean().reset_index()\n",
    "mean_a412.columns = ['code', 'rz_mean_a412_0_to_5cm']\n",
    "rz_mean_a412_0_to_5cm = mean_a412.set_index('code', drop=True)"
   ]
  },
  {
   "cell_type": "code",
   "execution_count": null,
   "id": "0b404535-8ac5-4c59-ab14-b1348a5f280b",
   "metadata": {},
   "outputs": [],
   "source": [
    "# Filter for depths between 0 and 5 cm\n",
    "filtered_df = df_cdom_rz[(df_cdom_rz['Sample_depth'] >= 0) & (df_cdom_rz['Sample_depth'] <= 5)]\n",
    "mean_a412 = filtered_df.groupby('code')['acdom_412'].std().reset_index()\n",
    "mean_a412.columns = ['code', 'rz_mean_a412_0_to_5cm_std']\n",
    "rz_mean_a412_0_to_5cm_std = mean_a412.set_index('code', drop=True)"
   ]
  },
  {
   "cell_type": "code",
   "execution_count": null,
   "id": "8a07c841-e353-4513-8eb5-134236115536",
   "metadata": {},
   "outputs": [],
   "source": [
    "# Filter for depths between 0 and 5 cm\n",
    "filtered_df = df_cdom_rz[(df_cdom_rz['Sample_depth'] >= 0) & (df_cdom_rz['Sample_depth'] <= 5)]\n",
    "mean_a350 = filtered_df.groupby('code')['acdom_350'].mean().reset_index()\n",
    "mean_a350.columns = ['code', 'rz_mean_a350_0_to_5cm']\n",
    "rz_mean_a350_0_to_5cm = mean_a350.set_index('code', drop=True)"
   ]
  },
  {
   "cell_type": "code",
   "execution_count": null,
   "id": "ee03258a-eaa7-4328-be89-43d3431124e0",
   "metadata": {},
   "outputs": [],
   "source": [
    "# Filter for depths between 0 and 5 cm\n",
    "filtered_df = df_cdom_rz[(df_cdom_rz['Sample_depth'] >= 0) & (df_cdom_rz['Sample_depth'] <= 5)]\n",
    "mean_a350 = filtered_df.groupby('code')['acdom_350'].std().reset_index()\n",
    "mean_a350.columns = ['code', 'rz_mean_a350_0_to_5cm_std']\n",
    "rz_mean_a350_0_to_5cm_std = mean_a350.set_index('code', drop=True)"
   ]
  },
  {
   "cell_type": "code",
   "execution_count": null,
   "id": "700bdd4d-4148-4e97-b8ea-ede07ccd7481",
   "metadata": {},
   "outputs": [],
   "source": [
    "# Filter for depths between 0 and 15 cm\n",
    "filtered_df = df_cdom_pw[(df_cdom_pw['Sample_depth'] >= 0) & (df_cdom_pw['Sample_depth'] <= 15)]\n",
    "mean_a412 = filtered_df.groupby('code')['acdom_412'].mean().reset_index()\n",
    "mean_a412.columns = ['code', 'pw_mean_a412_0_to_15cm']\n",
    "pw_mean_a412_0_to_15cm = mean_a412.set_index('code', drop=True)"
   ]
  },
  {
   "cell_type": "code",
   "execution_count": null,
   "id": "e3568bcf-7450-404e-a83d-c313c9a5d00d",
   "metadata": {},
   "outputs": [],
   "source": [
    "# Filter for depths between 0 and 5 cm\n",
    "filtered_df = df_cdom_pw[(df_cdom_pw['Sample_depth'] >= 0) & (df_cdom_pw['Sample_depth'] <= 15)]\n",
    "mean_a412 = filtered_df.groupby('code')['acdom_412'].std().reset_index()\n",
    "mean_a412.columns = ['code', 'pw_mean_a412_0_to_15cm_std']\n",
    "pw_mean_a412_0_to_15cm_std = mean_a412.set_index('code', drop=True)"
   ]
  },
  {
   "cell_type": "code",
   "execution_count": null,
   "id": "2211ae08-adc7-4769-aa88-2321c0f0fc5b",
   "metadata": {},
   "outputs": [],
   "source": [
    "# Filter for depths between 0 and 5 cm\n",
    "filtered_df = df_cdom_pw[(df_cdom_pw['Sample_depth'] >= 0) & (df_cdom_pw['Sample_depth'] <= 15)]\n",
    "mean_a350 = filtered_df.groupby('code')['acdom_350'].mean().reset_index()\n",
    "mean_a350.columns = ['code', 'pw_mean_a350_0_to_15cm']\n",
    "pw_mean_a350_0_to_15cm = mean_a350.set_index('code', drop=True)"
   ]
  },
  {
   "cell_type": "code",
   "execution_count": null,
   "id": "af540eca-e59b-4f45-8d1b-f47b46d11bf4",
   "metadata": {},
   "outputs": [],
   "source": [
    "# Filter for depths between 0 and 5 cm\n",
    "filtered_df = df_cdom_pw[(df_cdom_pw['Sample_depth'] >= 0) & (df_cdom_pw['Sample_depth'] <= 15)]\n",
    "mean_a350 = filtered_df.groupby('code')['acdom_350'].std().reset_index()\n",
    "mean_a350.columns = ['code', 'pw_mean_a350_0_to_15cm_std']\n",
    "pw_mean_a350_0_to_15cm_std = mean_a350.set_index('code', drop=True)"
   ]
  },
  {
   "cell_type": "code",
   "execution_count": null,
   "id": "b56a4955-95d3-43b5-8421-211f21add9a4",
   "metadata": {},
   "outputs": [],
   "source": [
    "# Filter for depths between 0 and 5 cm\n",
    "filtered_df = df_cdom_rz[(df_cdom_rz['Sample_depth'] >= 0) & (df_cdom_rz['Sample_depth'] <= 15)]\n",
    "mean_a412 = filtered_df.groupby('code')['acdom_412'].mean().reset_index()\n",
    "mean_a412.columns = ['code', 'rz_mean_a412_0_to_15cm']\n",
    "rz_mean_a412_0_to_15cm = mean_a412.set_index('code', drop=True)"
   ]
  },
  {
   "cell_type": "code",
   "execution_count": null,
   "id": "191a61ab-3bed-4368-bf49-90b36f420ac9",
   "metadata": {},
   "outputs": [],
   "source": [
    "# Filter for depths between 0 and 5 cm\n",
    "filtered_df = df_cdom_rz[(df_cdom_rz['Sample_depth'] >= 0) & (df_cdom_rz['Sample_depth'] <= 15)]\n",
    "mean_a412 = filtered_df.groupby('code')['acdom_412'].std().reset_index()\n",
    "mean_a412.columns = ['code', 'rz_mean_a412_0_to_15cm_std']\n",
    "rz_mean_a412_0_to_15cm_std = mean_a412.set_index('code', drop=True)"
   ]
  },
  {
   "cell_type": "code",
   "execution_count": null,
   "id": "15e5441f-9298-436d-98e7-79234291ecfb",
   "metadata": {},
   "outputs": [],
   "source": [
    "# Filter for depths between 0 and 5 cm\n",
    "filtered_df = df_cdom_rz[(df_cdom_rz['Sample_depth'] >= 0) & (df_cdom_rz['Sample_depth'] <= 15)]\n",
    "mean_a350 = filtered_df.groupby('code')['acdom_350'].mean().reset_index()\n",
    "mean_a350.columns = ['code', 'rz_mean_a350_0_to_15cm']\n",
    "rz_mean_a350_0_to_15cm = mean_a350.set_index('code', drop=True)"
   ]
  },
  {
   "cell_type": "code",
   "execution_count": null,
   "id": "7e33128b-679b-488c-a89f-d7b12d7f701a",
   "metadata": {},
   "outputs": [],
   "source": [
    "# Filter for depths between 0 and 5 cm\n",
    "filtered_df = df_cdom_rz[(df_cdom_rz['Sample_depth'] >= 0) & (df_cdom_rz['Sample_depth'] <= 15)]\n",
    "mean_a350 = filtered_df.groupby('code')['acdom_350'].std().reset_index()\n",
    "mean_a350.columns = ['code', 'rz_mean_a350_0_to_15cm_std']\n",
    "rz_mean_a350_0_to_15cm_std = mean_a350.set_index('code', drop=True)"
   ]
  },
  {
   "cell_type": "code",
   "execution_count": null,
   "id": "9cadcfd2-1503-4ed3-98ad-0ef5a0e6d96b",
   "metadata": {},
   "outputs": [],
   "source": [
    "# Filter for depths between 0 and 5 cm\n",
    "filtered_df = df_cdom_pw[(df_cdom_pw['Sample_depth'] >= 0) & (df_cdom_pw['Sample_depth'] <= 25)]\n",
    "mean_a412 = filtered_df.groupby('code')['acdom_412'].mean().reset_index()\n",
    "mean_a412.columns = ['code', 'pw_mean_a412_0_to_25cm']\n",
    "pw_mean_a412_0_to_25cm = mean_a412.set_index('code', drop=True)"
   ]
  },
  {
   "cell_type": "code",
   "execution_count": null,
   "id": "1d12dc58-b364-4854-9dfe-883340fb6972",
   "metadata": {},
   "outputs": [],
   "source": [
    "# Filter for depths between 0 and 5 cm\n",
    "filtered_df = df_cdom_pw[(df_cdom_pw['Sample_depth'] >= 0) & (df_cdom_pw['Sample_depth'] <= 25)]\n",
    "mean_a412 = filtered_df.groupby('code')['acdom_412'].std().reset_index()\n",
    "mean_a412.columns = ['code', 'pw_mean_a412_0_to_25cm_std']\n",
    "pw_mean_a412_0_to_25cm_std = mean_a412.set_index('code', drop=True)"
   ]
  },
  {
   "cell_type": "code",
   "execution_count": null,
   "id": "f95261f3-0ef1-4d80-ba50-52dcfb77011e",
   "metadata": {},
   "outputs": [],
   "source": [
    "# Filter for depths between 0 and 25 cm\n",
    "filtered_df = df_cdom_pw[(df_cdom_pw['Sample_depth'] >= 0) & (df_cdom_pw['Sample_depth'] <= 25)]\n",
    "mean_a350 = filtered_df.groupby('code')['acdom_350'].mean().reset_index()\n",
    "mean_a350.columns = ['code', 'pw_mean_a350_0_to_25cm']\n",
    "pw_mean_a350_0_to_25cm = mean_a350.set_index('code', drop=True)"
   ]
  },
  {
   "cell_type": "code",
   "execution_count": null,
   "id": "eb93db33-fe3c-4f71-9852-060d406d3aec",
   "metadata": {},
   "outputs": [],
   "source": [
    "# Filter for depths between 0 and 25 cm\n",
    "filtered_df = df_cdom_pw[(df_cdom_pw['Sample_depth'] >= 0) & (df_cdom_pw['Sample_depth'] <= 25)]\n",
    "mean_a350 = filtered_df.groupby('code')['acdom_350'].std().reset_index()\n",
    "mean_a350.columns = ['code', 'pw_mean_a350_0_to_25cm_std']\n",
    "pw_mean_a350_0_to_25cm_std = mean_a350.set_index('code', drop=True)"
   ]
  },
  {
   "cell_type": "code",
   "execution_count": null,
   "id": "5784d1ef-628a-4aec-bc17-a9e36111d06f",
   "metadata": {},
   "outputs": [],
   "source": [
    "# Filter for depths between 0 and 5 cm\n",
    "filtered_df = df_cdom_rz[(df_cdom_rz['Sample_depth'] >= 0) & (df_cdom_rz['Sample_depth'] <= 25)]\n",
    "mean_a412 = filtered_df.groupby('code')['acdom_412'].mean().reset_index()\n",
    "mean_a412.columns = ['code', 'rz_mean_a412_0_to_25cm']\n",
    "rz_mean_a412_0_to_25cm = mean_a412.set_index('code', drop=True)"
   ]
  },
  {
   "cell_type": "code",
   "execution_count": null,
   "id": "cf2a7cff-c343-48c8-8961-633c0d584bae",
   "metadata": {},
   "outputs": [],
   "source": [
    "# Filter for depths between 0 and 5 cm\n",
    "filtered_df = df_cdom_rz[(df_cdom_rz['Sample_depth'] >= 0) & (df_cdom_rz['Sample_depth'] <= 25)]\n",
    "mean_a412 = filtered_df.groupby('code')['acdom_412'].std().reset_index()\n",
    "mean_a412.columns = ['code', 'rz_mean_a412_0_to_25cm_std']\n",
    "rz_mean_a412_0_to_25cm_std = mean_a412.set_index('code', drop=True)"
   ]
  },
  {
   "cell_type": "code",
   "execution_count": null,
   "id": "78eb7781-1934-4d16-bf90-7a454ce27e07",
   "metadata": {},
   "outputs": [],
   "source": [
    "# Filter for depths between 0 and 25 cm\n",
    "filtered_df = df_cdom_rz[(df_cdom_rz['Sample_depth'] >= 0) & (df_cdom_rz['Sample_depth'] <= 25)]\n",
    "mean_a350 = filtered_df.groupby('code')['acdom_350'].mean().reset_index()\n",
    "mean_a350.columns = ['code', 'rz_mean_a350_0_to_25cm']\n",
    "rz_mean_a350_0_to_25cm = mean_a350.set_index('code', drop=True)"
   ]
  },
  {
   "cell_type": "code",
   "execution_count": null,
   "id": "d2de8eea-b76b-4f22-ab23-9f6544fe9e94",
   "metadata": {},
   "outputs": [],
   "source": [
    "# Filter for depths between 0 and 25 cm\n",
    "filtered_df = df_cdom_rz[(df_cdom_rz['Sample_depth'] >= 0) & (df_cdom_rz['Sample_depth'] <= 25)]\n",
    "mean_a350 = filtered_df.groupby('code')['acdom_350'].std().reset_index()\n",
    "mean_a350.columns = ['code', 'rz_mean_a350_0_to_25cm_std']\n",
    "rz_mean_a350_0_to_25cm_std = mean_a350.set_index('code', drop=True)"
   ]
  },
  {
   "cell_type": "code",
   "execution_count": null,
   "id": "ae6da59d-0f3e-46f8-9919-e7fa9471a6a1",
   "metadata": {},
   "outputs": [],
   "source": [
    "# Filter for depths between 0 and 5 cm\n",
    "filtered_df = df_cdom_pw[(df_cdom_pw['Sample_depth'] >= 5) & (df_cdom_pw['Sample_depth'] <= 25)]\n",
    "mean_a412 = filtered_df.groupby('code')['acdom_412'].mean().reset_index()\n",
    "mean_a412.columns = ['code', 'pw_mean_a412_5_to_25cm']\n",
    "pw_mean_a412_5_to_25cm = mean_a412.set_index('code', drop=True)"
   ]
  },
  {
   "cell_type": "code",
   "execution_count": null,
   "id": "434c4623-c5c3-4163-8808-1d951a60aee9",
   "metadata": {},
   "outputs": [],
   "source": [
    "# Filter for depths between 0 and 5 cm\n",
    "filtered_df = df_cdom_pw[(df_cdom_pw['Sample_depth'] >= 5) & (df_cdom_pw['Sample_depth'] <= 25)]\n",
    "mean_a412 = filtered_df.groupby('code')['acdom_412'].std().reset_index()\n",
    "mean_a412.columns = ['code', 'pw_mean_a412_5_to_25cm_std']\n",
    "pw_mean_a412_5_to_25cm_std = mean_a412.set_index('code', drop=True)"
   ]
  },
  {
   "cell_type": "code",
   "execution_count": null,
   "id": "57d14b65-4c77-40a7-9012-1b9fcdda1678",
   "metadata": {},
   "outputs": [],
   "source": [
    "# Filter for depths between 5 and 25 cm\n",
    "filtered_df = df_cdom_pw[(df_cdom_pw['Sample_depth'] >= 5) & (df_cdom_pw['Sample_depth'] <= 25)]\n",
    "mean_a350 = filtered_df.groupby('code')['acdom_350'].mean().reset_index()\n",
    "mean_a350.columns = ['code', 'pw_mean_a350_5_to_25cm']\n",
    "pw_mean_a350_5_to_25cm = mean_a350.set_index('code', drop=True)"
   ]
  },
  {
   "cell_type": "code",
   "execution_count": null,
   "id": "5ba18bdd-c5f2-4be2-8316-c86d666b5909",
   "metadata": {},
   "outputs": [],
   "source": [
    "# Filter for depths between 5 and 25 cm\n",
    "filtered_df = df_cdom_pw[(df_cdom_pw['Sample_depth'] >= 5) & (df_cdom_pw['Sample_depth'] <= 25)]\n",
    "mean_a350 = filtered_df.groupby('code')['acdom_350'].std().reset_index()\n",
    "mean_a350.columns = ['code', 'pw_mean_a350_5_to_25cm_std']\n",
    "pw_mean_a350_5_to_25cm_std = mean_a350.set_index('code', drop=True)"
   ]
  },
  {
   "cell_type": "code",
   "execution_count": null,
   "id": "8f8a58aa-db64-47e4-ba6f-ba2b9845ad9e",
   "metadata": {},
   "outputs": [],
   "source": [
    "# Filter for depths between 0 and 5 cm\n",
    "filtered_df = df_cdom_rz[(df_cdom_rz['Sample_depth'] >= 5) & (df_cdom_rz['Sample_depth'] <= 25)]\n",
    "mean_a412 = filtered_df.groupby('code')['acdom_412'].mean().reset_index()\n",
    "mean_a412.columns = ['code', 'rz_mean_a412_5_to_25cm']\n",
    "rz_mean_a412_5_to_25cm = mean_a412.set_index('code', drop=True)"
   ]
  },
  {
   "cell_type": "code",
   "execution_count": null,
   "id": "d4f627f7-b717-4710-b3ee-0631fdb37641",
   "metadata": {
    "scrolled": true
   },
   "outputs": [],
   "source": [
    "# Filter for depths between 0 and 5 cm\n",
    "filtered_df = df_cdom_rz[(df_cdom_rz['Sample_depth'] >= 5) & (df_cdom_rz['Sample_depth'] <= 25)]\n",
    "mean_a412 = filtered_df.groupby('code')['acdom_412'].std().reset_index()\n",
    "mean_a412.columns = ['code', 'rz_mean_a412_5_to_25cm_std']\n",
    "rz_mean_a412_5_to_25cm_std = mean_a412.set_index('code', drop=True)"
   ]
  },
  {
   "cell_type": "code",
   "execution_count": null,
   "id": "8e3ba7b6-3d67-4191-8938-a5d914991918",
   "metadata": {
    "scrolled": true
   },
   "outputs": [],
   "source": [
    "# Filter for depths between 5 and 25 cm\n",
    "filtered_df = df_cdom_rz[(df_cdom_rz['Sample_depth'] >= 5) & (df_cdom_rz['Sample_depth'] <= 25)]\n",
    "mean_a350 = filtered_df.groupby('code')['acdom_350'].mean().reset_index()\n",
    "mean_a350.columns = ['code', 'rz_mean_a350_5_to_25cm']\n",
    "rz_mean_a350_5_to_25cm = mean_a350.set_index('code', drop=True)"
   ]
  },
  {
   "cell_type": "code",
   "execution_count": null,
   "id": "6f1d4697-5c6e-4310-b541-475b5dd1f594",
   "metadata": {
    "scrolled": true
   },
   "outputs": [],
   "source": [
    "# Filter for depths between 5 and 25 cm\n",
    "filtered_df = df_cdom_rz[(df_cdom_rz['Sample_depth'] >= 5) & (df_cdom_rz['Sample_depth'] <= 25)]\n",
    "mean_a350 = filtered_df.groupby('code')['acdom_350'].std().reset_index()\n",
    "mean_a350.columns = ['code', 'rz_mean_a350_5_to_25cm_std']\n",
    "rz_mean_a350_5_to_25cm_std = mean_a350.set_index('code', drop=True)"
   ]
  },
  {
   "cell_type": "code",
   "execution_count": null,
   "id": "ed7281e0-c49d-4af6-b7e6-8b3007f23f52",
   "metadata": {},
   "outputs": [],
   "source": [
    "def cal_inflec(df_cdom):\n",
    "    df_cdom[\"a350_norm\"] = (df_cdom[\"a350\"] - df_cdom[\"a400\"]) / (df_cdom[\"a300\"] - df_cdom[\"a400\"])\n",
    "    df_cdom[\"a325_norm\"] = (df_cdom[\"a325\"] - df_cdom[\"a400\"]) / (df_cdom[\"a300\"] - df_cdom[\"a400\"])\n",
    "    df_cdom[\"a375_norm\"] = (df_cdom[\"a375\"] - df_cdom[\"a400\"]) / (df_cdom[\"a300\"] - df_cdom[\"a400\"])\n",
    "    df_cdom[\"a_infelc\"] = df_cdom[\"a350_norm\"] / ((df_cdom[\"a325_norm\"] + df_cdom[\"a375_norm\"])/2)\n",
    "\n",
    "cal_inflec(df_cdom_pw)\n",
    "cal_inflec(df_cdom_rz)"
   ]
  },
  {
   "cell_type": "code",
   "execution_count": null,
   "id": "ebe96a1a-488b-46c5-9718-cd7a92f30bd0",
   "metadata": {},
   "outputs": [],
   "source": [
    "# Filter for depths between 0 and 5 cm\n",
    "filtered_df = df_cdom_pw[(df_cdom_pw['Sample_depth'] >= 0) & (df_cdom_pw['Sample_depth'] <= 15)]\n",
    "mean_a350 = filtered_df.groupby('code')['a_infelc'].mean().reset_index()\n",
    "mean_a350.columns = ['code', 'pw_mean_a350_inflec_0_to_15cm']\n",
    "pw_mean_a350_inflec_0_to_15cm = mean_a350.set_index('code', drop=True)"
   ]
  },
  {
   "cell_type": "code",
   "execution_count": null,
   "id": "5d6c399e-07ab-4095-b954-5e6d8f52d1fb",
   "metadata": {},
   "outputs": [],
   "source": [
    "# Filter for depths between 0 and 5 cm\n",
    "filtered_df = df_cdom_pw[(df_cdom_pw['Sample_depth'] >= 0) & (df_cdom_pw['Sample_depth'] <= 15)]\n",
    "mean_a350 = filtered_df.groupby('code')['a_infelc'].std().reset_index()\n",
    "mean_a350.columns = ['code', 'pw_mean_a350_inflec_0_to_15cm_std']\n",
    "pw_mean_a350_inflec_0_to_15cm_std = mean_a350.set_index('code', drop=True)"
   ]
  },
  {
   "cell_type": "code",
   "execution_count": null,
   "id": "f9698d95-4aaf-42e7-ae7e-4337d4a2fa38",
   "metadata": {},
   "outputs": [],
   "source": [
    "# Filter for depths between 0 and 5 cm\n",
    "filtered_df = df_cdom_rz[(df_cdom_rz['Sample_depth'] >= 0) & (df_cdom_rz['Sample_depth'] <= 15)]\n",
    "mean_a350 = filtered_df.groupby('code')['a_infelc'].mean().reset_index()\n",
    "mean_a350.columns = ['code', 'rz_mean_a350_inflec_0_to_15cm']\n",
    "rz_mean_a350_inflec_0_to_15cm = mean_a350.set_index('code', drop=True)"
   ]
  },
  {
   "cell_type": "code",
   "execution_count": null,
   "id": "9ba23a25-f7b3-46dc-aee6-e1cacedb982e",
   "metadata": {},
   "outputs": [],
   "source": [
    "# Filter for depths between 0 and 5 cm\n",
    "filtered_df = df_cdom_rz[(df_cdom_rz['Sample_depth'] >= 0) & (df_cdom_rz['Sample_depth'] <= 15)]\n",
    "mean_a350 = filtered_df.groupby('code')['a_infelc'].std().reset_index()\n",
    "mean_a350.columns = ['code', 'rz_mean_a350_inflec_0_to_15cm_std']\n",
    "rz_mean_a350_inflec_0_to_15cm_std = mean_a350.set_index('code', drop=True)"
   ]
  },
  {
   "cell_type": "code",
   "execution_count": null,
   "id": "caa93e6a-6e10-4801-8e42-d45959f7eba2",
   "metadata": {},
   "outputs": [],
   "source": [
    "# Filter for depths between 5 and 25 cm\n",
    "filtered_df = df_cdom_rz\n",
    "mean_a350 = (\n",
    "    filtered_df.groupby('code')['Location']\n",
    "    .nunique()\n",
    "    .reset_index(name='unique_station_count')\n",
    ")\n",
    "mean_a350.columns = ['code', 'n_rz']\n",
    "n_rz = mean_a350.set_index('code', drop=True)\n",
    "n_rz"
   ]
  },
  {
   "cell_type": "code",
   "execution_count": null,
   "id": "2a8ac2d3-9594-4a1b-9012-9a5c57c5fbb0",
   "metadata": {},
   "outputs": [],
   "source": [
    "# Filter for depths between 5 and 25 cm\n",
    "filtered_df = df_cdom_pw\n",
    "mean_a350 = (\n",
    "    filtered_df.groupby('code')['Location']\n",
    "    .nunique()\n",
    "    .reset_index(name='unique_station_count')\n",
    ")\n",
    "mean_a350.columns = ['code', 'n_pw']\n",
    "n_pw = mean_a350.set_index('code', drop=True)\n",
    "n_pw"
   ]
  },
  {
   "cell_type": "code",
   "execution_count": null,
   "id": "3307efd0-61d1-47da-a741-9547ea634c22",
   "metadata": {},
   "outputs": [],
   "source": [
    "stocks_pw_cdom = pd.concat([n_pw, n_rz, pw_mean_a412_0_to_5cm, rz_mean_a412_0_to_5cm, \n",
    "                          pw_mean_a412_0_to_15cm, rz_mean_a412_0_to_15cm, \n",
    "                          pw_mean_a412_0_to_25cm, rz_mean_a412_0_to_25cm, \n",
    "                          pw_mean_a412_5_to_25cm, rz_mean_a412_5_to_25cm, \n",
    "                          pw_mean_a350_0_to_5cm, rz_mean_a350_0_to_5cm, \n",
    "                          pw_mean_a350_0_to_15cm, rz_mean_a350_0_to_15cm, \n",
    "                          pw_mean_a350_0_to_25cm, rz_mean_a350_0_to_25cm, \n",
    "                          pw_mean_a350_5_to_25cm, rz_mean_a350_5_to_25cm, \n",
    "                          pw_mean_a412_0_to_5cm_std, rz_mean_a412_0_to_5cm_std, \n",
    "                          pw_mean_a412_0_to_15cm_std, rz_mean_a412_0_to_15cm_std, \n",
    "                          pw_mean_a412_0_to_25cm_std, rz_mean_a412_0_to_25cm_std, \n",
    "                          pw_mean_a412_5_to_25cm_std, rz_mean_a412_5_to_25cm_std, \n",
    "                          pw_mean_a350_0_to_5cm_std, rz_mean_a350_0_to_5cm_std, \n",
    "                          pw_mean_a350_0_to_15cm_std, rz_mean_a350_0_to_15cm_std, \n",
    "                          pw_mean_a350_0_to_25cm_std, rz_mean_a350_0_to_25cm_std, \n",
    "                          pw_mean_a350_5_to_25cm_std, rz_mean_a350_5_to_25cm_std], axis=1)\n",
    "\n",
    "stocks_pw_cdom = pd.concat([n_pw, n_rz, pw_mean_a350_inflec_0_to_15cm, \n",
    "                            pw_mean_a350_inflec_0_to_15cm_std, \n",
    "                            rz_mean_a350_inflec_0_to_15cm, \n",
    "                            rz_mean_a350_inflec_0_to_15cm_std, \n",
    "                            pw_mean_a412_0_to_15cm, rz_mean_a412_0_to_15cm, \n",
    "                            pw_mean_a350_0_to_15cm, rz_mean_a350_0_to_15cm, \n",
    "                            pw_mean_a412_0_to_15cm_std, rz_mean_a412_0_to_15cm_std, \n",
    "                            pw_mean_a350_0_to_15cm_std, rz_mean_a350_0_to_15cm_std, ], axis=1)\n",
    "\n",
    "\n",
    "stocks_pw_cdom.to_csv('../Dissertation_projects/CDOM_Tracer_and_Proxy_Project/MDS_CDOM_stocks.csv')\n",
    "stocks_pw_cdom"
   ]
  }
 ],
 "metadata": {
  "kernelspec": {
   "display_name": "Python 3 (ipykernel)",
   "language": "python",
   "name": "python3"
  },
  "language_info": {
   "codemirror_mode": {
    "name": "ipython",
    "version": 3
   },
   "file_extension": ".py",
   "mimetype": "text/x-python",
   "name": "python",
   "nbconvert_exporter": "python",
   "pygments_lexer": "ipython3",
   "version": "3.11.9"
  }
 },
 "nbformat": 4,
 "nbformat_minor": 5
}
