{
 "cells": [
  {
   "cell_type": "code",
   "execution_count": 1,
   "id": "91587805-0136-4ee5-91eb-390df70d3b06",
   "metadata": {},
   "outputs": [
    {
     "name": "stdout",
     "output_type": "stream",
     "text": [
      "Converted ../Dissertation_projects/Data/CTD/DOWNCAST_RENAME\\CTD_GOM2021_St.11_2128_07-25-21.csv to ../Dissertation_projects/Data/CTD/DOWNCAST_TXT/CTD_GOM2021_St.11_2128_07-25-21.txt\n",
      "Converted ../Dissertation_projects/Data/CTD/DOWNCAST_RENAME\\CTD_GOM2021_St.13_2124_07-21-21_1.csv to ../Dissertation_projects/Data/CTD/DOWNCAST_TXT/CTD_GOM2021_St.13_2124_07-21-21_1.txt\n",
      "Converted ../Dissertation_projects/Data/CTD/DOWNCAST_RENAME\\CTD_GOM2021_St.14_2122_07-19-21.csv to ../Dissertation_projects/Data/CTD/DOWNCAST_TXT/CTD_GOM2021_St.14_2122_07-19-21.txt\n",
      "Converted ../Dissertation_projects/Data/CTD/DOWNCAST_RENAME\\CTD_GOM2021_St.15_2126_07-23-21.csv to ../Dissertation_projects/Data/CTD/DOWNCAST_TXT/CTD_GOM2021_St.15_2126_07-23-21.txt\n",
      "Converted ../Dissertation_projects/Data/CTD/DOWNCAST_RENAME\\CTD_GOM2021_St.16_2127_07-24-21.csv to ../Dissertation_projects/Data/CTD/DOWNCAST_TXT/CTD_GOM2021_St.16_2127_07-24-21.txt\n",
      "Converted ../Dissertation_projects/Data/CTD/DOWNCAST_RENAME\\CTD_GOM2021_St.2_2125_07-22-21.csv to ../Dissertation_projects/Data/CTD/DOWNCAST_TXT/CTD_GOM2021_St.2_2125_07-22-21.txt\n",
      "Converted ../Dissertation_projects/Data/CTD/DOWNCAST_RENAME\\CTD_GOM2021_St.4_2121_07-17-21.csv to ../Dissertation_projects/Data/CTD/DOWNCAST_TXT/CTD_GOM2021_St.4_2121_07-17-21.txt\n",
      "Converted ../Dissertation_projects/Data/CTD/DOWNCAST_RENAME\\CTD_GOM2021_St.5B_2120_07-16-21.csv to ../Dissertation_projects/Data/CTD/DOWNCAST_TXT/CTD_GOM2021_St.5B_2120_07-16-21.txt\n",
      "Converted ../Dissertation_projects/Data/CTD/DOWNCAST_RENAME\\CTD_GOM2021_St.7_2129_07-26-21_1.csv to ../Dissertation_projects/Data/CTD/DOWNCAST_TXT/CTD_GOM2021_St.7_2129_07-26-21_1.txt\n",
      "Converted ../Dissertation_projects/Data/CTD/DOWNCAST_RENAME\\CTD_GOM2021_St.9_2123_07-20-21.csv to ../Dissertation_projects/Data/CTD/DOWNCAST_TXT/CTD_GOM2021_St.9_2123_07-20-21.txt\n",
      "Converted ../Dissertation_projects/Data/CTD/DOWNCAST_RENAME\\CTD_GOM2021_St.MK_2119_07-15-21.csv to ../Dissertation_projects/Data/CTD/DOWNCAST_TXT/CTD_GOM2021_St.MK_2119_07-15-21.txt\n",
      "Converted ../Dissertation_projects/Data/CTD/DOWNCAST_RENAME\\CTD_GOM2021_St.ML_2130_07-27-21.csv to ../Dissertation_projects/Data/CTD/DOWNCAST_TXT/CTD_GOM2021_St.ML_2130_07-27-21.txt\n",
      "Converted ../Dissertation_projects/Data/CTD/DOWNCAST_RENAME\\CTD_GOM21FA_St.11_2157_11-10-21.csv to ../Dissertation_projects/Data/CTD/DOWNCAST_TXT/CTD_GOM21FA_St.11_2157_11-10-21.txt\n",
      "Converted ../Dissertation_projects/Data/CTD/DOWNCAST_RENAME\\CTD_GOM21FA_St.12_2156_11-09-21.csv to ../Dissertation_projects/Data/CTD/DOWNCAST_TXT/CTD_GOM21FA_St.12_2156_11-09-21.txt\n",
      "Converted ../Dissertation_projects/Data/CTD/DOWNCAST_RENAME\\CTD_GOM21FA_St.13_2154_11-07-21.csv to ../Dissertation_projects/Data/CTD/DOWNCAST_TXT/CTD_GOM21FA_St.13_2154_11-07-21.txt\n",
      "Converted ../Dissertation_projects/Data/CTD/DOWNCAST_RENAME\\CTD_GOM21FA_St.14.5_2151_11-01-21.csv to ../Dissertation_projects/Data/CTD/DOWNCAST_TXT/CTD_GOM21FA_St.14.5_2151_11-01-21.txt\n",
      "Converted ../Dissertation_projects/Data/CTD/DOWNCAST_RENAME\\CTD_GOM21FA_St.14_2149_10-31-21.csv to ../Dissertation_projects/Data/CTD/DOWNCAST_TXT/CTD_GOM21FA_St.14_2149_10-31-21.txt\n",
      "Converted ../Dissertation_projects/Data/CTD/DOWNCAST_RENAME\\CTD_GOM21FA_St.15_2152_11-02-21.csv to ../Dissertation_projects/Data/CTD/DOWNCAST_TXT/CTD_GOM21FA_St.15_2152_11-02-21.txt\n",
      "Converted ../Dissertation_projects/Data/CTD/DOWNCAST_RENAME\\CTD_GOM21FA_St.16-2_2158_11-12-21.csv to ../Dissertation_projects/Data/CTD/DOWNCAST_TXT/CTD_GOM21FA_St.16-2_2158_11-12-21.txt\n",
      "Converted ../Dissertation_projects/Data/CTD/DOWNCAST_RENAME\\CTD_GOM21FA_St.16_2155_11-08-21.csv to ../Dissertation_projects/Data/CTD/DOWNCAST_TXT/CTD_GOM21FA_St.16_2155_11-08-21.txt\n",
      "Converted ../Dissertation_projects/Data/CTD/DOWNCAST_RENAME\\CTD_GOM21FA_St.2_2153_11-02-21.csv to ../Dissertation_projects/Data/CTD/DOWNCAST_TXT/CTD_GOM21FA_St.2_2153_11-02-21.txt\n",
      "Converted ../Dissertation_projects/Data/CTD/DOWNCAST_RENAME\\CTD_GOM21FA_St.4_2145_10-26-21.csv to ../Dissertation_projects/Data/CTD/DOWNCAST_TXT/CTD_GOM21FA_St.4_2145_10-26-21.txt\n",
      "Converted ../Dissertation_projects/Data/CTD/DOWNCAST_RENAME\\CTD_GOM21FA_St.5B_2143_10-25-21.csv to ../Dissertation_projects/Data/CTD/DOWNCAST_TXT/CTD_GOM21FA_St.5B_2143_10-25-21.txt\n",
      "Converted ../Dissertation_projects/Data/CTD/DOWNCAST_RENAME\\CTD_GOM21FA_St.6_2144_10-25-21.csv to ../Dissertation_projects/Data/CTD/DOWNCAST_TXT/CTD_GOM21FA_St.6_2144_10-25-21.txt\n",
      "Converted ../Dissertation_projects/Data/CTD/DOWNCAST_RENAME\\CTD_GOM21FA_St.7_2148_10-31-21.csv to ../Dissertation_projects/Data/CTD/DOWNCAST_TXT/CTD_GOM21FA_St.7_2148_10-31-21.txt\n",
      "Converted ../Dissertation_projects/Data/CTD/DOWNCAST_RENAME\\CTD_GOM21FA_St.9_2150_11-01-21.csv to ../Dissertation_projects/Data/CTD/DOWNCAST_TXT/CTD_GOM21FA_St.9_2150_11-01-21.txt\n",
      "Converted ../Dissertation_projects/Data/CTD/DOWNCAST_RENAME\\CTD_GOM21FA_St.MK-2_2147_10-30-21.csv to ../Dissertation_projects/Data/CTD/DOWNCAST_TXT/CTD_GOM21FA_St.MK-2_2147_10-30-21.txt\n",
      "Converted ../Dissertation_projects/Data/CTD/DOWNCAST_RENAME\\CTD_GOM21FA_St.MK_2146_10-27-21.csv to ../Dissertation_projects/Data/CTD/DOWNCAST_TXT/CTD_GOM21FA_St.MK_2146_10-27-21.txt\n",
      "Converted ../Dissertation_projects/Data/CTD/DOWNCAST_RENAME\\CTD_GOM22SP_St.13_2221_4-18-22.csv to ../Dissertation_projects/Data/CTD/DOWNCAST_TXT/CTD_GOM22SP_St.13_2221_4-18-22.txt\n",
      "Converted ../Dissertation_projects/Data/CTD/DOWNCAST_RENAME\\CTD_GOM22SP_St.14_2215_4-9-22.csv to ../Dissertation_projects/Data/CTD/DOWNCAST_TXT/CTD_GOM22SP_St.14_2215_4-9-22.txt\n",
      "Converted ../Dissertation_projects/Data/CTD/DOWNCAST_RENAME\\CTD_GOM22SP_St.15_2218_4-16-22.csv to ../Dissertation_projects/Data/CTD/DOWNCAST_TXT/CTD_GOM22SP_St.15_2218_4-16-22.txt\n",
      "Converted ../Dissertation_projects/Data/CTD/DOWNCAST_RENAME\\CTD_GOM22SP_St.16_2216_4-11-22.csv to ../Dissertation_projects/Data/CTD/DOWNCAST_TXT/CTD_GOM22SP_St.16_2216_4-11-22.txt\n",
      "Converted ../Dissertation_projects/Data/CTD/DOWNCAST_RENAME\\CTD_GOM22SP_St.2_2220_4-17-22.csv to ../Dissertation_projects/Data/CTD/DOWNCAST_TXT/CTD_GOM22SP_St.2_2220_4-17-22.txt\n",
      "Converted ../Dissertation_projects/Data/CTD/DOWNCAST_RENAME\\CTD_GOM22SP_St.4_2223_4-20-22.csv to ../Dissertation_projects/Data/CTD/DOWNCAST_TXT/CTD_GOM22SP_St.4_2223_4-20-22.txt\n",
      "Converted ../Dissertation_projects/Data/CTD/DOWNCAST_RENAME\\CTD_GOM22SP_St.5B_2217_4-14-22.csv to ../Dissertation_projects/Data/CTD/DOWNCAST_TXT/CTD_GOM22SP_St.5B_2217_4-14-22.txt\n",
      "Converted ../Dissertation_projects/Data/CTD/DOWNCAST_RENAME\\CTD_GOM22SP_St.7_2214_4-10-22.csv to ../Dissertation_projects/Data/CTD/DOWNCAST_TXT/CTD_GOM22SP_St.7_2214_4-10-22.txt\n",
      "Converted ../Dissertation_projects/Data/CTD/DOWNCAST_RENAME\\CTD_GOM22SP_St.9_2219_4-16-22.csv to ../Dissertation_projects/Data/CTD/DOWNCAST_TXT/CTD_GOM22SP_St.9_2219_4-16-22.txt\n",
      "Converted ../Dissertation_projects/Data/CTD/DOWNCAST_RENAME\\CTD_GOM22SP_St.MK_2222_4-19-22.csv to ../Dissertation_projects/Data/CTD/DOWNCAST_TXT/CTD_GOM22SP_St.MK_2222_4-19-22.txt\n",
      "Converted ../Dissertation_projects/Data/CTD/DOWNCAST_RENAME\\CTD_GOM22SU_St.11_2252_07-22-22.csv to ../Dissertation_projects/Data/CTD/DOWNCAST_TXT/CTD_GOM22SU_St.11_2252_07-22-22.txt\n",
      "Converted ../Dissertation_projects/Data/CTD/DOWNCAST_RENAME\\CTD_GOM22SU_St.12_2250_7-21-22.csv to ../Dissertation_projects/Data/CTD/DOWNCAST_TXT/CTD_GOM22SU_St.12_2250_7-21-22.txt\n",
      "Converted ../Dissertation_projects/Data/CTD/DOWNCAST_RENAME\\CTD_GOM22SU_St.13_2248_7-18-22.csv to ../Dissertation_projects/Data/CTD/DOWNCAST_TXT/CTD_GOM22SU_St.13_2248_7-18-22.txt\n",
      "Converted ../Dissertation_projects/Data/CTD/DOWNCAST_RENAME\\CTD_GOM22SU_St.14_2244_7-16-22.csv to ../Dissertation_projects/Data/CTD/DOWNCAST_TXT/CTD_GOM22SU_St.14_2244_7-16-22.txt\n",
      "Converted ../Dissertation_projects/Data/CTD/DOWNCAST_RENAME\\CTD_GOM22SU_St.15_2247_7-15-22.csv to ../Dissertation_projects/Data/CTD/DOWNCAST_TXT/CTD_GOM22SU_St.15_2247_7-15-22.txt\n",
      "Converted ../Dissertation_projects/Data/CTD/DOWNCAST_RENAME\\CTD_GOM22SU_St.16_2251_07-20-22.csv to ../Dissertation_projects/Data/CTD/DOWNCAST_TXT/CTD_GOM22SU_St.16_2251_07-20-22.txt\n",
      "Converted ../Dissertation_projects/Data/CTD/DOWNCAST_RENAME\\CTD_GOM22SU_St.2_2249_7-19-22.csv to ../Dissertation_projects/Data/CTD/DOWNCAST_TXT/CTD_GOM22SU_St.2_2249_7-19-22.txt\n",
      "Converted ../Dissertation_projects/Data/CTD/DOWNCAST_RENAME\\CTD_GOM22SU_St.4_2242_7-10-22.csv to ../Dissertation_projects/Data/CTD/DOWNCAST_TXT/CTD_GOM22SU_St.4_2242_7-10-22.txt\n",
      "Converted ../Dissertation_projects/Data/CTD/DOWNCAST_RENAME\\CTD_GOM22SU_St.5B_2243_7-10-22.csv to ../Dissertation_projects/Data/CTD/DOWNCAST_TXT/CTD_GOM22SU_St.5B_2243_7-10-22.txt\n",
      "Converted ../Dissertation_projects/Data/CTD/DOWNCAST_RENAME\\CTD_GOM22SU_St.7_2245_7-12-22.csv to ../Dissertation_projects/Data/CTD/DOWNCAST_TXT/CTD_GOM22SU_St.7_2245_7-12-22.txt\n",
      "Converted ../Dissertation_projects/Data/CTD/DOWNCAST_RENAME\\CTD_GOM22SU_St.9_2246_7-17-22.csv to ../Dissertation_projects/Data/CTD/DOWNCAST_TXT/CTD_GOM22SU_St.9_2246_7-17-22.txt\n",
      "Converted ../Dissertation_projects/Data/CTD/DOWNCAST_RENAME\\CTD_GOM22SU_St.MK_2253_07-23-22.csv to ../Dissertation_projects/Data/CTD/DOWNCAST_TXT/CTD_GOM22SU_St.MK_2253_07-23-22.txt\n"
     ]
    }
   ],
   "source": [
    "import os\n",
    "import pandas as pd\n",
    "\n",
    "# Specify the input and output directories\n",
    "input_folder = '../Dissertation_projects/Data/CTD/DOWNCAST_RENAME'\n",
    "output_folder = '../Dissertation_projects/Data/CTD/DOWNCAST_TXT/'\n",
    "\n",
    "# Ensure the output directory exists\n",
    "os.makedirs(output_folder, exist_ok=True)\n",
    "\n",
    "# Loop over all the files in the input directory\n",
    "for filename in os.listdir(input_folder):\n",
    "    if filename.endswith('.csv'):\n",
    "        csv_path = os.path.join(input_folder, filename)\n",
    "        txt_filename = os.path.splitext(filename)[0] + '.txt'\n",
    "        txt_path = os.path.join(output_folder, txt_filename)\n",
    "        \n",
    "        # Read the CSV file\n",
    "        df = pd.read_csv(csv_path)\n",
    "        \n",
    "        # Write to a TXT file\n",
    "        df.to_csv(txt_path, sep='\\t', index=False)\n",
    "        \n",
    "        print(f'Converted {csv_path} to {txt_path}')\n"
   ]
  }
 ],
 "metadata": {
  "kernelspec": {
   "display_name": "Python 3 (ipykernel)",
   "language": "python",
   "name": "python3"
  },
  "language_info": {
   "codemirror_mode": {
    "name": "ipython",
    "version": 3
   },
   "file_extension": ".py",
   "mimetype": "text/x-python",
   "name": "python",
   "nbconvert_exporter": "python",
   "pygments_lexer": "ipython3",
   "version": "3.11.9"
  }
 },
 "nbformat": 4,
 "nbformat_minor": 5
}
