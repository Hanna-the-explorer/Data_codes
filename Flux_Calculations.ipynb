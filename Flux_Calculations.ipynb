{
 "cells": [
  {
   "cell_type": "code",
   "execution_count": 1,
   "id": "df3aa01e",
   "metadata": {},
   "outputs": [],
   "source": [
    "import pandas as pd #the csv reading library\n",
    "import matplotlib.pyplot as plt #the ploting library\n",
    "import glob #to get file names\n",
    "import numpy as np\n",
    "from pandas import Series\n",
    "import seaborn as sns\n",
    "from matplotlib.pyplot import figure\n",
    "import cmocean.cm as cmo\n",
    "import seaborn as sns\n",
    "\n",
    "from pylab import rcParams\n",
    "from numpy import diff\n",
    "from scipy import interpolate\n",
    "import scipy.stats as stats\n",
    "\n",
    "from scipy.signal import savgol_filter\n",
    "from sklearn.linear_model import LinearRegression\n",
    "\n",
    "import statsmodels.api as sm\n",
    "from statsmodels.stats.anova import anova_lm\n",
    "from statsmodels.formula.api import ols\n",
    "\n",
    "import matplotlib.gridspec as gridspec"
   ]
  },
  {
   "cell_type": "code",
   "execution_count": 2,
   "id": "8f9b5824",
   "metadata": {},
   "outputs": [],
   "source": [
    "df_iron = pd.read_csv('../Dissertation_projects/Data/IRON/Iron.csv', sep=',', index_col=0)\n",
    "\n",
    "#make all the spots labeled NA a nan value\n",
    "df_iron = df_iron.replace('NA', np.nan)\n",
    "df_iron = df_iron.replace('NA ', np.nan)\n",
    "\n",
    "#make all BDL a 0 \n",
    "df_iron.loc[df_iron['FeT_uM'] == 'BLD', 'FeT_uM'] = 0\n",
    "df_iron.loc[df_iron['Fe2_uM'] == 'BLD', 'Fe2_uM'] = 0\n",
    "\n",
    "# convert columns to numeric data type\n",
    "df_iron['FeT_uM'] = pd.to_numeric(df_iron['FeT_uM'], errors='coerce')\n",
    "df_iron['Fe2_uM'] = pd.to_numeric(df_iron['Fe2_uM'], errors='coerce')\n",
    "\n",
    "df_iron['FeT_uM'] = df_iron['FeT_uM'].where(pd.notna(df_iron['FeT_uM']), other=np.nan)\n",
    "df_iron['Fe2_uM'] = df_iron['Fe2_uM'].where(pd.notna(df_iron['Fe2_uM']), other=np.nan)\n",
    "\n",
    "#make all negative a 0 \n",
    "df_iron.loc[df_iron['FeT_uM'] < 0, 'FeT_uM'] = 0\n",
    "df_iron.loc[df_iron['Fe2_uM'] < 0, 'Fe2_uM'] = 0\n",
    "\n",
    "#calculate Fe +3 \n",
    "df_iron['Fe3_uM'] = df_iron['FeT_uM'] - df_iron['Fe2_uM']\n",
    "df_iron.loc[df_iron['Fe3_uM'] < 0, 'Fe3_uM'] = 0\n",
    "df_iron.loc[df_iron['Fe2_uM'] > df_iron['FeT_uM'], 'Fe3_uM'] = 0\n",
    "df_iron['Fe3_uM'] = pd.to_numeric(df_iron['Fe3_uM'], errors='coerce')\n",
    "df_iron['Fe3_uM'] = df_iron['Fe3_uM'].where(pd.notna(df_iron['Fe3_uM']), other=np.nan)\n",
    "\n",
    "#time feild \n",
    "df_iron['Fe2_Time'] = pd.to_numeric(df_iron['Fe2_Time'], errors='coerce')\n",
    "df_iron['Fe2_Time'] = df_iron['Fe2_Time'].where(pd.notna(df_iron['Fe2_Time']), other=np.nan)\n",
    "\n",
    "#time feild \n",
    "df_iron['FeT_Time'] = pd.to_numeric(df_iron['FeT_Time'], errors='coerce')\n",
    "df_iron['FeT_Time'] = df_iron['FeT_Time'].where(pd.notna(df_iron['FeT_Time']), other=np.nan)\n",
    "\n",
    "df_iron['code'] = df_iron['Location'] + '_' + df_iron['Campaign']"
   ]
  },
  {
   "cell_type": "code",
   "execution_count": 3,
   "id": "d1937dbb",
   "metadata": {},
   "outputs": [],
   "source": [
    "df_doc = pd.read_csv('../Dissertation_projects/Data/TOC/TOC_GOM.csv', sep=',', index_col=0)\n",
    "\n",
    "#make all BDL a 0 \n",
    "df_doc.loc[df_doc['NPOC_uM'] == 'BLD', 'NPOC_uM'] = 0\n",
    "df_doc.loc[df_doc['TN_uM'] == 'BLD', 'TN_uM'] = 0\n",
    "\n",
    "df_doc.loc[df_doc['NPOC_uM'] < 0, 'NPOC_uM'] = 0\n",
    "df_doc.loc[df_doc['TN_uM'] < 0, 'TN_uM'] = 0\n",
    "\n",
    "#fix date time \n",
    "df_doc['date_time'] = pd.to_datetime(df_doc['Date'])\n",
    "df_doc['Date'] = df_doc['date_time'].dt.date\n",
    "\n",
    "df_doc['NPOC_uM'] = pd.to_numeric(df_doc['NPOC_uM'], errors='coerce')\n",
    "df_doc['NPOC_uM'] = df_doc['NPOC_uM'].where(pd.notna(df_doc['NPOC_uM']), other=np.nan)\n",
    "\n",
    "df_doc['TN_uM'] = pd.to_numeric(df_doc['TN_uM'], errors='coerce')\n",
    "df_doc['TN_uM'] = df_doc['TN_uM'].where(pd.notna(df_doc['TN_uM']), other=np.nan)\n",
    "\n",
    "df_doc['Time'] = pd.to_numeric(df_doc['Time'], errors='coerce')\n",
    "df_doc['Time'] = df_doc['Time'].where(pd.notna(df_doc['Time']), other=np.nan)\n",
    "\n",
    "df_doc['code'] = df_doc['Location'] + '_' + df_doc['Campaign']"
   ]
  },
  {
   "cell_type": "code",
   "execution_count": 4,
   "id": "f3e62bef",
   "metadata": {},
   "outputs": [],
   "source": [
    "df_nisk = pd.read_csv('../Dissertation_projects/Data/CTD/NISK_SUMS.csv', sep=',', index_col=0)\n",
    "\n",
    "# drop rows with NaN index values\n",
    "df_nisk = df_nisk[df_nisk['Sample_ID'].notna()]\n",
    "df_nisk['code'] = df_nisk['station'] + '_' + df_nisk['camp']\n",
    "\n",
    "# reformat the index to be a whole number\n",
    "df_nisk.index = df_nisk.index.astype(int)"
   ]
  },
  {
   "cell_type": "code",
   "execution_count": 5,
   "id": "5ab3705a",
   "metadata": {},
   "outputs": [],
   "source": [
    "df_meta = pd.read_csv('../Dissertation_projects/Data/meta_data.csv', sep=',', index_col=0)\n",
    "\n",
    "#fix date time \n",
    "df_meta['date_time'] = pd.to_datetime(df_meta['Date'])\n",
    "df_meta['Date'] = df_meta['date_time'].dt.date"
   ]
  },
  {
   "cell_type": "code",
   "execution_count": 6,
   "id": "8f3a8ae6",
   "metadata": {},
   "outputs": [],
   "source": [
    "df_cdom = pd.read_csv('../Dissertation_projects/Data/CDOM/Outputs.csv', sep=',', index_col=0)\n",
    "\n",
    "df_cdom['Sample_idx'] = df_cdom.index.astype(object)\n",
    "df_cdom.index = df_cdom['file_id']\n",
    "\n",
    "# merge in the meta data\n",
    "df_meta['Sample_idx'] = df_meta.index.astype(object)\n",
    "\n",
    "df_cdom = df_cdom.merge(df_meta, on=\"Sample_idx\", how=\"left\")\n",
    "\n",
    "df_cdom.index = df_cdom['Sample_idx']\n",
    "df_cdom['Sample'] = df_cdom.index\n",
    "df_cdom.index = df_cdom['Sample']\n",
    "df_cdom = df_cdom.drop('Sample_idx', axis = 1)\n",
    "df_meta = df_meta.drop('Sample_idx', axis = 1)"
   ]
  },
  {
   "cell_type": "code",
   "execution_count": null,
   "id": "964a5fbe",
   "metadata": {},
   "outputs": [],
   "source": []
  },
  {
   "cell_type": "code",
   "execution_count": null,
   "id": "1b034193",
   "metadata": {},
   "outputs": [],
   "source": []
  },
  {
   "cell_type": "code",
   "execution_count": null,
   "id": "b045caa1",
   "metadata": {},
   "outputs": [],
   "source": []
  },
  {
   "cell_type": "code",
   "execution_count": null,
   "id": "a4d758ae",
   "metadata": {},
   "outputs": [],
   "source": []
  },
  {
   "cell_type": "code",
   "execution_count": null,
   "id": "cb4b5aba",
   "metadata": {},
   "outputs": [],
   "source": []
  },
  {
   "cell_type": "code",
   "execution_count": null,
   "id": "aa918dfd",
   "metadata": {},
   "outputs": [],
   "source": []
  },
  {
   "cell_type": "code",
   "execution_count": null,
   "id": "bf283217",
   "metadata": {},
   "outputs": [],
   "source": []
  }
 ],
 "metadata": {
  "kernelspec": {
   "display_name": "Python 3 (ipykernel)",
   "language": "python",
   "name": "python3"
  },
  "language_info": {
   "codemirror_mode": {
    "name": "ipython",
    "version": 3
   },
   "file_extension": ".py",
   "mimetype": "text/x-python",
   "name": "python",
   "nbconvert_exporter": "python",
   "pygments_lexer": "ipython3",
   "version": "3.11.4"
  }
 },
 "nbformat": 4,
 "nbformat_minor": 5
}
