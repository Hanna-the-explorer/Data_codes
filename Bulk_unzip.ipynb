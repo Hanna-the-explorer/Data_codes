{
 "cells": [
  {
   "cell_type": "code",
   "execution_count": 1,
   "id": "f0aeb05e",
   "metadata": {},
   "outputs": [],
   "source": [
    "import os\n",
    "import zipfile\n",
    "\n",
    "\n",
    "\n",
    "def unzip_all_files(folder_path):\n",
    "    # Get a list of all files in the folder\n",
    "    files = os.listdir(folder_path)\n",
    "    \n",
    "    # Iterate over each file\n",
    "    for file in files:\n",
    "        file_path = os.path.join(folder_path, file)\n",
    "        \n",
    "        # Check if the file is a zip file\n",
    "        if file.endswith('.zip'):\n",
    "            # Open the zip file\n",
    "            with zipfile.ZipFile(file_path, 'r') as zip_ref:\n",
    "                # Extract all contents to the same folder\n",
    "                zip_ref.extractall(folder_path)\n",
    "                \n",
    "            # Remove the zip file after extracting its contents\n",
    "            #os.remove(file_path)\n",
    "\n",
    "# Example usage:\n",
    "folder_path = '../FL_bay/'\n",
    "unzip_all_files(folder_path)\n"
   ]
  }
 ],
 "metadata": {
  "kernelspec": {
   "display_name": "Python 3 (ipykernel)",
   "language": "python",
   "name": "python3"
  },
  "language_info": {
   "codemirror_mode": {
    "name": "ipython",
    "version": 3
   },
   "file_extension": ".py",
   "mimetype": "text/x-python",
   "name": "python",
   "nbconvert_exporter": "python",
   "pygments_lexer": "ipython3",
   "version": "3.11.4"
  }
 },
 "nbformat": 4,
 "nbformat_minor": 5
}
