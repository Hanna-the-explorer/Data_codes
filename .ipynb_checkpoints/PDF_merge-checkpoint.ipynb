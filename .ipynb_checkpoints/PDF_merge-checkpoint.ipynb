{
 "cells": [
  {
   "cell_type": "code",
   "execution_count": 1,
   "id": "a1e6900b",
   "metadata": {},
   "outputs": [
    {
     "name": "stdout",
     "output_type": "stream",
     "text": [
      "PDFs merged successfully into ../../Downloads/Med_docs/Med_docks.pdf\n"
     ]
    }
   ],
   "source": [
    "import PyPDF2\n",
    "\n",
    "def merge_pdfs(pdf_list, output_filename):\n",
    "    pdf_merger = PyPDF2.PdfMerger()\n",
    "    \n",
    "    for pdf in pdf_list:\n",
    "        pdf_merger.append(pdf)\n",
    "    \n",
    "    with open(output_filename, 'wb') as output_file_handle:\n",
    "        pdf_merger.write(output_file_handle)\n",
    "\n",
    "if __name__ == \"__main__\":\n",
    "    pdfs_to_merge = ['../../Downloads/Med_docs/bridgham.hanna.IS1.pdf', \n",
    "                     '../../Downloads/Med_docs/bridgham.hanna.IS2.pdf', \n",
    "                     '../../Downloads/Med_docs/Med_docks_for_insurance.pdf' ]  # Add your PDF filenames here    output_file = \"merged.pdf\"  # Desired output filename\n",
    "    output_file = \"../../Downloads/Med_docs/Med_docks.pdf\"  # Desired output filename\n",
    "    merge_pdfs(pdfs_to_merge, output_file)\n",
    "    print(f\"PDFs merged successfully into {output_file}\")\n"
   ]
  },
  {
   "cell_type": "code",
   "execution_count": 2,
   "id": "d76f7db1",
   "metadata": {},
   "outputs": [
    {
     "data": {
      "text/plain": [
       "['../../Downloads/Med_docs/bridgham.hanna.IS1.pdf',\n",
       " '../../Downloads/Med_docs/bridgham.hanna.IS2.pdf',\n",
       " '../../Downloads/Med_docs/Med_docks_for_insurance.pdf']"
      ]
     },
     "execution_count": 2,
     "metadata": {},
     "output_type": "execute_result"
    }
   ],
   "source": [
    "pdfs_to_merge = ['../../Downloads/Med_docs/bridgham.hanna.IS1.pdf', \n",
    "                 '../../Downloads/Med_docs/bridgham.hanna.IS2.pdf',\n",
    "                 '../../Downloads/Med_docs/Med_docks_for_insurance.pdf']  # Add your PDF filenames here\n",
    "pdfs_to_merge"
   ]
  }
 ],
 "metadata": {
  "kernelspec": {
   "display_name": "Python 3 (ipykernel)",
   "language": "python",
   "name": "python3"
  },
  "language_info": {
   "codemirror_mode": {
    "name": "ipython",
    "version": 3
   },
   "file_extension": ".py",
   "mimetype": "text/x-python",
   "name": "python",
   "nbconvert_exporter": "python",
   "pygments_lexer": "ipython3",
   "version": "3.11.9"
  }
 },
 "nbformat": 4,
 "nbformat_minor": 5
}
