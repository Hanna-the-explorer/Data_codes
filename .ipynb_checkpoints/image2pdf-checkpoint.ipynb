{
 "cells": [
  {
   "cell_type": "code",
   "execution_count": 2,
   "id": "e6349dfc",
   "metadata": {},
   "outputs": [
    {
     "name": "stderr",
     "output_type": "stream",
     "text": [
      "Image contains an alpha channel. Computing a separate soft mask (/SMask) image to store transparency in PDF.\n"
     ]
    },
    {
     "name": "stdout",
     "output_type": "stream",
     "text": [
      "Successfully made pdf file\n"
     ]
    }
   ],
   "source": [
    "# importing necessary libraries\n",
    "import img2pdf\n",
    "from PIL import Image\n",
    "import os\n",
    " \n",
    "# storing image path\n",
    "img_path = \"../../Downloads/Hilton_rec.png\"\n",
    " \n",
    "# storing pdf path\n",
    "pdf_path = \"../../Downloads/Hilton_rec.pdf\"\n",
    " \n",
    "# opening image\n",
    "image = Image.open(img_path)\n",
    " \n",
    "# converting into chunks using img2pdf\n",
    "pdf_bytes = img2pdf.convert(image.filename)\n",
    " \n",
    "# opening or creating pdf file\n",
    "file = open(pdf_path, \"wb\")\n",
    " \n",
    "# writing pdf files with chunks\n",
    "file.write(pdf_bytes)\n",
    " \n",
    "# closing image file\n",
    "image.close()\n",
    " \n",
    "# closing pdf file\n",
    "file.close()\n",
    " \n",
    "# output\n",
    "print(\"Successfully made pdf file\")"
   ]
  }
 ],
 "metadata": {
  "kernelspec": {
   "display_name": "Python 3 (ipykernel)",
   "language": "python",
   "name": "python3"
  },
  "language_info": {
   "codemirror_mode": {
    "name": "ipython",
    "version": 3
   },
   "file_extension": ".py",
   "mimetype": "text/x-python",
   "name": "python",
   "nbconvert_exporter": "python",
   "pygments_lexer": "ipython3",
   "version": "3.11.4"
  }
 },
 "nbformat": 4,
 "nbformat_minor": 5
}
