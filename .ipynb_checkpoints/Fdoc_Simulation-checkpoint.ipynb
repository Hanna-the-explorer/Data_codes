{
 "cells": [
  {
   "cell_type": "code",
   "execution_count": null,
   "id": "4a1c4868-4a20-4c6c-87bb-c83a4b778c39",
   "metadata": {},
   "outputs": [],
   "source": []
  },
  {
   "cell_type": "code",
   "execution_count": null,
   "id": "d1dbd93f-6ef1-452f-886e-b0ba6bc4708a",
   "metadata": {},
   "outputs": [],
   "source": []
  },
  {
   "cell_type": "code",
   "execution_count": 1,
   "id": "5cefdbc5-b3d6-42a5-9a0e-3e3db7fd7bba",
   "metadata": {},
   "outputs": [],
   "source": [
    "def calculate_slope(x_values, y_values):\n",
    "    if len(x_values) != len(y_values):\n",
    "        raise ValueError(\"The lists of x and y values must have the same length.\")\n",
    "    \n",
    "    n = len(x_values)\n",
    "    sum_x = sum(x_values)\n",
    "    sum_y = sum(y_values)\n",
    "    sum_xy = sum(x * y for x, y in zip(x_values, y_values))\n",
    "    sum_x_squared = sum(x ** 2 for x in x_values)\n",
    "    \n",
    "    numerator = n * sum_xy - sum_x * sum_y\n",
    "    denominator = n * sum_x_squared - sum_x ** 2\n",
    "    \n",
    "    if denominator == 0:\n",
    "        raise ValueError(\"The denominator is zero, which means the x values are all the same.\")\n",
    "    \n",
    "    slope = numerator / denominator\n",
    "    return slope\n"
   ]
  },
  {
   "cell_type": "code",
   "execution_count": 3,
   "id": "7c3cb9e2-fbc4-4fb6-bfb0-3ae1779162ba",
   "metadata": {},
   "outputs": [
    {
     "name": "stdout",
     "output_type": "stream",
     "text": [
      "Slope: 579312.7637779755\n",
      " \n",
      "Fdoc min: 10.410945540406756\n",
      "Slope: 430220.58823529416\n",
      " \n",
      "Fdoc max: 7.73158023529412\n"
     ]
    }
   ],
   "source": [
    "#### WC DOC MIN AND MAX ####\n",
    "\n",
    "D_doc = 2.6 * (10**-6) / 10000 * (86400) #0.000001728 \n",
    "por_mean = .8 \n",
    "\n",
    "# Example usage:\n",
    "x_values = [-.5/1000, .35/1000]\n",
    "y_values = [7.584150788720879, 500]\n",
    "\n",
    "slope = calculate_slope(x_values, y_values)\n",
    "print(\"Slope:\", slope)\n",
    "print(\" \")\n",
    "\n",
    "slope_doc_pw = slope\n",
    "\n",
    "flux_doc_pw_min = slope_doc_pw * por_mean * D_doc \n",
    "print(\"Fdoc min:\", flux_doc_pw_min)\n",
    "\n",
    "# Example usage:\n",
    "x_values = [-.5/1000, .35/1000]\n",
    "y_values = [134.3125, 500]\n",
    "\n",
    "slope = calculate_slope(x_values, y_values)\n",
    "print(\"Slope:\", slope)\n",
    "print(\" \")\n",
    "\n",
    "slope_doc_pw = slope\n",
    "\n",
    "flux_doc_pw_max = slope_doc_pw * por_mean * D_doc \n",
    "print(\"Fdoc max:\", flux_doc_pw_max)\n",
    "\n"
   ]
  },
  {
   "cell_type": "code",
   "execution_count": 4,
   "id": "f27e4dbe-0302-4583-9f9b-7da7d9f43861",
   "metadata": {},
   "outputs": [
    {
     "name": "stdout",
     "output_type": "stream",
     "text": [
      "Slope: 6009.798823529398\n",
      " \n",
      "Fdoc min: 0.10800329661741155\n",
      "Slope: 761617.6470588235\n",
      " \n",
      "Fdoc max: 13.687183058823532\n"
     ]
    }
   ],
   "source": [
    "#### SED DOC MIN AND MAX ####\n",
    "\n",
    "D_doc = 2.6 * (10**-6) / 10000 * (86400) #0.000001728 \n",
    "por_mean = .8 \n",
    "\n",
    "# Example usage:\n",
    "x_values = [-.5/1000, .35/1000]\n",
    "y_values = [100, 105.108329]\n",
    "\n",
    "slope = calculate_slope(x_values, y_values)\n",
    "print(\"Slope:\", slope)\n",
    "print(\" \")\n",
    "\n",
    "slope_doc_pw = slope\n",
    "\n",
    "flux_doc_pw_min = slope_doc_pw * por_mean * D_doc \n",
    "print(\"Fdoc min:\", flux_doc_pw_min)\n",
    "\n",
    "# Example usage:\n",
    "x_values = [-.5/1000, .35/1000]\n",
    "y_values = [100, 747.375000]\n",
    "\n",
    "slope = calculate_slope(x_values, y_values)\n",
    "print(\"Slope:\", slope)\n",
    "print(\" \")\n",
    "\n",
    "slope_doc_pw = slope\n",
    "\n",
    "flux_doc_pw_max = slope_doc_pw * por_mean * D_doc \n",
    "print(\"Fdoc max:\", flux_doc_pw_max)\n",
    "\n"
   ]
  },
  {
   "cell_type": "code",
   "execution_count": 8,
   "id": "2ba1d1f3-2c09-4f84-b5b1-458031ed4740",
   "metadata": {},
   "outputs": [
    {
     "name": "stdout",
     "output_type": "stream",
     "text": [
      "Slope: 296296.2962962963\n",
      " \n",
      "Fdoc 1cm: 5.3248000000000015\n",
      "Slope: 1142857.1428571427\n",
      " \n",
      "Fdoc 0cm: 20.53851428571429\n"
     ]
    }
   ],
   "source": [
    "#### SED DOC MIN AND MAX ####\n",
    "\n",
    "D_doc = 2.6 * (10**-6) / 10000 * (86400) #0.000001728 \n",
    "por_mean = .8 \n",
    "\n",
    "# Example usage:\n",
    "x_values = [-1/1000, .35/1000]\n",
    "y_values = [100, 500]\n",
    "\n",
    "slope = calculate_slope(x_values, y_values)\n",
    "print(\"Slope:\", slope)\n",
    "print(\" \")\n",
    "\n",
    "slope_doc_pw = slope\n",
    "\n",
    "flux_doc_pw_min = slope_doc_pw * por_mean * D_doc \n",
    "print(\"Fdoc 1cm:\", flux_doc_pw_min)\n",
    "\n",
    "# Example usage:\n",
    "x_values = [0/1000, .35/1000]\n",
    "y_values = [100, 500]\n",
    "\n",
    "slope = calculate_slope(x_values, y_values)\n",
    "print(\"Slope:\", slope)\n",
    "print(\" \")\n",
    "\n",
    "slope_doc_pw = slope\n",
    "\n",
    "flux_doc_pw_max = slope_doc_pw * por_mean * D_doc \n",
    "print(\"Fdoc 0cm:\", flux_doc_pw_max)\n",
    "\n"
   ]
  }
 ],
 "metadata": {
  "kernelspec": {
   "display_name": "Python 3 (ipykernel)",
   "language": "python",
   "name": "python3"
  },
  "language_info": {
   "codemirror_mode": {
    "name": "ipython",
    "version": 3
   },
   "file_extension": ".py",
   "mimetype": "text/x-python",
   "name": "python",
   "nbconvert_exporter": "python",
   "pygments_lexer": "ipython3",
   "version": "3.11.9"
  }
 },
 "nbformat": 4,
 "nbformat_minor": 5
}
