{
 "cells": [
  {
   "cell_type": "code",
   "execution_count": 1,
   "id": "a1e6900b",
   "metadata": {},
   "outputs": [
    {
     "name": "stdout",
     "output_type": "stream",
     "text": [
      "PDFs merged successfully into ../Fellowships/Sea_Grant/Academic_Transcripts.pdf\n"
     ]
    }
   ],
   "source": [
    "import PyPDF2\n",
    "\n",
    "def merge_pdfs(pdf_list, output_filename):\n",
    "    pdf_merger = PyPDF2.PdfMerger()\n",
    "    \n",
    "    for pdf in pdf_list:\n",
    "        pdf_merger.append(pdf)\n",
    "    \n",
    "    with open(output_filename, 'wb') as output_file_handle:\n",
    "        pdf_merger.write(output_file_handle)\n",
    "\n",
    "if __name__ == \"__main__\":\n",
    "    pdfs_to_merge = ['../Fellowships/Sea_Grant/Academic_History_undergrad.pdf', \n",
    "                     '../Fellowships/Sea_Grant/Academic_Transcript_grad_school.pdf']  # Add your PDF filenames here    output_file = \"merged.pdf\"  # Desired output filename\n",
    "    output_file = \"../Fellowships/Sea_Grant/Academic_Transcripts.pdf\"  # Desired output filename\n",
    "    merge_pdfs(pdfs_to_merge, output_file)\n",
    "    print(f\"PDFs merged successfully into {output_file}\")\n"
   ]
  },
  {
   "cell_type": "code",
   "execution_count": 5,
   "id": "d76f7db1",
   "metadata": {},
   "outputs": [
    {
     "data": {
      "text/plain": [
       "['./Hanna_Bridgham_SECOORA_Vembu-Subramanian-Ocean-Scholars-Award.pdf',\n",
       " './Hanna SECOORA_Vembu-Subramanian-Ocean-Scholars-Award rec letter (10-2-2023).pdf',\n",
       " './PI_Endorsement_Form_Shell_JBsigned.pdf']"
      ]
     },
     "execution_count": 5,
     "metadata": {},
     "output_type": "execute_result"
    }
   ],
   "source": [
    "pdfs_to_merge = ['./Hanna_Bridgham_SECOORA_Vembu-Subramanian-Ocean-Scholars-Award.pdf', \n",
    "                 './Hanna SECOORA_Vembu-Subramanian-Ocean-Scholars-Award rec letter (10-2-2023).pdf',\n",
    "                 './PI_Endorsement_Form_Shell_JBsigned.pdf']  # Add your PDF filenames here\n",
    "pdfs_to_merge"
   ]
  }
 ],
 "metadata": {
  "kernelspec": {
   "display_name": "Python 3 (ipykernel)",
   "language": "python",
   "name": "python3"
  },
  "language_info": {
   "codemirror_mode": {
    "name": "ipython",
    "version": 3
   },
   "file_extension": ".py",
   "mimetype": "text/x-python",
   "name": "python",
   "nbconvert_exporter": "python",
   "pygments_lexer": "ipython3",
   "version": "3.11.4"
  }
 },
 "nbformat": 4,
 "nbformat_minor": 5
}
