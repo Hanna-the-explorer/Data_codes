{
 "cells": [
  {
   "cell_type": "code",
   "execution_count": null,
   "id": "4d78948d-c137-418c-a5bb-6fd70e7fc9f3",
   "metadata": {},
   "outputs": [],
   "source": [
    "import pandas as pd #the csv reading library\n",
    "import matplotlib.pyplot as plt #the ploting library\n",
    "import glob #to get file names\n",
    "import numpy as np\n",
    "from pandas import Series\n",
    "import seaborn as sns\n",
    "from matplotlib.pyplot import figure\n",
    "import cmocean.cm as cmo\n",
    "import seaborn as sns\n",
    "\n",
    "from matplotlib.lines import Line2D\n",
    "from geopy.distance import geodesic\n",
    "\n",
    "from pylab import rcParams\n",
    "from numpy import diff\n",
    "from scipy import interpolate\n",
    "import scipy.stats as stats\n",
    "\n",
    "from scipy.signal import savgol_filter\n",
    "from sklearn.linear_model import LinearRegression\n",
    "\n",
    "import statsmodels.api as sm\n",
    "from statsmodels.stats.anova import anova_lm\n",
    "from statsmodels.formula.api import ols\n",
    "\n",
    "import matplotlib.gridspec as gridspec\n",
    "\n",
    "import cmocean\n",
    "import cmocean.cm as cmo\n",
    "import seaborn as sns\n",
    "\n",
    "import cartopy.crs as ccrs\n",
    "import cartopy.feature as cfeature\n",
    "from cartopy.mpl.gridliner import LONGITUDE_FORMATTER, LATITUDE_FORMATTER\n",
    "\n",
    "from sklearn.manifold import MDS\n",
    "from sklearn.preprocessing import LabelEncoder\n",
    "from sklearn.impute import SimpleImputer"
   ]
  },
  {
   "cell_type": "code",
   "execution_count": null,
   "id": "2d09b7f3-4eff-4769-9b4f-885492117c19",
   "metadata": {},
   "outputs": [],
   "source": []
  }
 ],
 "metadata": {
  "kernelspec": {
   "display_name": "Python 3 (ipykernel)",
   "language": "python",
   "name": "python3"
  },
  "language_info": {
   "codemirror_mode": {
    "name": "ipython",
    "version": 3
   },
   "file_extension": ".py",
   "mimetype": "text/x-python",
   "name": "python",
   "nbconvert_exporter": "python",
   "pygments_lexer": "ipython3",
   "version": "3.11.9"
  }
 },
 "nbformat": 4,
 "nbformat_minor": 5
}
